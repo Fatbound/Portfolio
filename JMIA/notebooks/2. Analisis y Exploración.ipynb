{
 "cells": [
  {
   "cell_type": "markdown",
   "id": "e355756b-6de6-4c0c-a1c3-13737c9fadb6",
   "metadata": {},
   "source": [
    "# Chapter 2\n",
    "\n",
    "En este capítulo haré una exploración de mis datos y una visualización de lo que tengo."
   ]
  }
 ],
 "metadata": {
  "kernelspec": {
   "display_name": "Python 3 (ipykernel)",
   "language": "python",
   "name": "python3"
  },
  "language_info": {
   "codemirror_mode": {
    "name": "ipython",
    "version": 3
   },
   "file_extension": ".py",
   "mimetype": "text/x-python",
   "name": "python",
   "nbconvert_exporter": "python",
   "pygments_lexer": "ipython3",
   "version": "3.9.12"
  }
 },
 "nbformat": 4,
 "nbformat_minor": 5
}
