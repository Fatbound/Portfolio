{
 "cells": [
  {
   "cell_type": "markdown",
   "id": "39761cd7-304f-45e4-89b2-cfe24730a1ed",
   "metadata": {},
   "source": [
    "### Este es el dataset de kaggle para practicar manejo de datos"
   ]
  },
  {
   "cell_type": "code",
   "execution_count": 1,
   "id": "7b977e75-096b-4422-9f59-5dd369c9e82f",
   "metadata": {},
   "outputs": [],
   "source": [
    "import pandas as pd\n",
    "import numpy as np\n"
   ]
  },
  {
   "cell_type": "markdown",
   "id": "284f1171-2457-4ace-a4fd-62aceed77655",
   "metadata": {},
   "source": [
    "# Chapter 1\n",
    "\n",
    "En este capítulo, Limpiare mi base de datos para obtener una data limpia y procesada."
   ]
  },
  {
   "cell_type": "code",
   "execution_count": 2,
   "id": "2b6c0e10-812c-4b29-8284-cf5b143bdbf7",
   "metadata": {},
   "outputs": [],
   "source": [
    "df=pd.read_csv(\"E:/piere/Documentos/Portafolio/JMIA/Data/RAW/JMIA.csv\")"
   ]
  },
  {
   "cell_type": "code",
   "execution_count": 3,
   "id": "ec92a100-89ce-4649-bc41-3f72af316135",
   "metadata": {},
   "outputs": [
    {
     "name": "stdout",
     "output_type": "stream",
     "text": [
      "<class 'pandas.core.frame.DataFrame'>\n",
      "RangeIndex: 653 entries, 0 to 652\n",
      "Data columns (total 7 columns):\n",
      " #   Column     Non-Null Count  Dtype  \n",
      "---  ------     --------------  -----  \n",
      " 0   Date       653 non-null    object \n",
      " 1   Open       653 non-null    float64\n",
      " 2   High       653 non-null    float64\n",
      " 3   Low        653 non-null    float64\n",
      " 4   Close      653 non-null    float64\n",
      " 5   Adj Close  653 non-null    float64\n",
      " 6   Volume     653 non-null    int64  \n",
      "dtypes: float64(5), int64(1), object(1)\n",
      "memory usage: 35.8+ KB\n"
     ]
    }
   ],
   "source": [
    "df.info()"
   ]
  },
  {
   "cell_type": "code",
   "execution_count": 4,
   "id": "6ad89f11-62dc-4399-8ace-e15b70e69d38",
   "metadata": {},
   "outputs": [],
   "source": [
    "df[\"Date\"]=pd.to_datetime(df[\"Date\"])"
   ]
  },
  {
   "cell_type": "code",
   "execution_count": 5,
   "id": "8b02bb4d-adfb-466c-9d96-b9e5a50e1063",
   "metadata": {},
   "outputs": [
    {
     "data": {
      "text/plain": [
       "Date         datetime64[ns]\n",
       "Open                float64\n",
       "High                float64\n",
       "Low                 float64\n",
       "Close               float64\n",
       "Adj Close           float64\n",
       "Volume                int64\n",
       "dtype: object"
      ]
     },
     "execution_count": 5,
     "metadata": {},
     "output_type": "execute_result"
    }
   ],
   "source": [
    "df.dtypes"
   ]
  },
  {
   "cell_type": "code",
   "execution_count": 6,
   "id": "cf1f0565-5b4c-4c9d-a6a6-76d6795a3947",
   "metadata": {},
   "outputs": [
    {
     "data": {
      "text/html": [
       "<div>\n",
       "<style scoped>\n",
       "    .dataframe tbody tr th:only-of-type {\n",
       "        vertical-align: middle;\n",
       "    }\n",
       "\n",
       "    .dataframe tbody tr th {\n",
       "        vertical-align: top;\n",
       "    }\n",
       "\n",
       "    .dataframe thead th {\n",
       "        text-align: right;\n",
       "    }\n",
       "</style>\n",
       "<table border=\"1\" class=\"dataframe\">\n",
       "  <thead>\n",
       "    <tr style=\"text-align: right;\">\n",
       "      <th></th>\n",
       "      <th>Date</th>\n",
       "      <th>Open</th>\n",
       "      <th>High</th>\n",
       "      <th>Low</th>\n",
       "      <th>Close</th>\n",
       "      <th>Adj Close</th>\n",
       "      <th>Volume</th>\n",
       "    </tr>\n",
       "  </thead>\n",
       "  <tbody>\n",
       "    <tr>\n",
       "      <th>0</th>\n",
       "      <td>2019-04-12</td>\n",
       "      <td>18.950001</td>\n",
       "      <td>25.459999</td>\n",
       "      <td>18.260000</td>\n",
       "      <td>25.459999</td>\n",
       "      <td>25.459999</td>\n",
       "      <td>9472300</td>\n",
       "    </tr>\n",
       "    <tr>\n",
       "      <th>1</th>\n",
       "      <td>2019-04-15</td>\n",
       "      <td>26.940001</td>\n",
       "      <td>39.950001</td>\n",
       "      <td>25.629999</td>\n",
       "      <td>31.910000</td>\n",
       "      <td>31.910000</td>\n",
       "      <td>12857300</td>\n",
       "    </tr>\n",
       "    <tr>\n",
       "      <th>2</th>\n",
       "      <td>2019-04-16</td>\n",
       "      <td>35.330002</td>\n",
       "      <td>43.500000</td>\n",
       "      <td>33.099998</td>\n",
       "      <td>43.040001</td>\n",
       "      <td>43.040001</td>\n",
       "      <td>12939400</td>\n",
       "    </tr>\n",
       "  </tbody>\n",
       "</table>\n",
       "</div>"
      ],
      "text/plain": [
       "        Date       Open       High        Low      Close  Adj Close    Volume\n",
       "0 2019-04-12  18.950001  25.459999  18.260000  25.459999  25.459999   9472300\n",
       "1 2019-04-15  26.940001  39.950001  25.629999  31.910000  31.910000  12857300\n",
       "2 2019-04-16  35.330002  43.500000  33.099998  43.040001  43.040001  12939400"
      ]
     },
     "execution_count": 6,
     "metadata": {},
     "output_type": "execute_result"
    }
   ],
   "source": [
    "df.head(3)"
   ]
  },
  {
   "cell_type": "code",
   "execution_count": 7,
   "id": "63b8c8b5-4212-41d5-9073-7dca963dbb4a",
   "metadata": {},
   "outputs": [
    {
     "data": {
      "text/html": [
       "<div>\n",
       "<style scoped>\n",
       "    .dataframe tbody tr th:only-of-type {\n",
       "        vertical-align: middle;\n",
       "    }\n",
       "\n",
       "    .dataframe tbody tr th {\n",
       "        vertical-align: top;\n",
       "    }\n",
       "\n",
       "    .dataframe thead th {\n",
       "        text-align: right;\n",
       "    }\n",
       "</style>\n",
       "<table border=\"1\" class=\"dataframe\">\n",
       "  <thead>\n",
       "    <tr style=\"text-align: right;\">\n",
       "      <th></th>\n",
       "      <th>Open</th>\n",
       "      <th>High</th>\n",
       "      <th>Low</th>\n",
       "      <th>Close</th>\n",
       "      <th>Adj Close</th>\n",
       "      <th>Volume</th>\n",
       "    </tr>\n",
       "  </thead>\n",
       "  <tbody>\n",
       "    <tr>\n",
       "      <th>count</th>\n",
       "      <td>653.0</td>\n",
       "      <td>653.0</td>\n",
       "      <td>653.0</td>\n",
       "      <td>653.0</td>\n",
       "      <td>653.0</td>\n",
       "      <td>653.0</td>\n",
       "    </tr>\n",
       "    <tr>\n",
       "      <th>mean</th>\n",
       "      <td>19.0</td>\n",
       "      <td>20.0</td>\n",
       "      <td>18.0</td>\n",
       "      <td>19.0</td>\n",
       "      <td>19.0</td>\n",
       "      <td>5496232.0</td>\n",
       "    </tr>\n",
       "    <tr>\n",
       "      <th>std</th>\n",
       "      <td>14.0</td>\n",
       "      <td>15.0</td>\n",
       "      <td>13.0</td>\n",
       "      <td>14.0</td>\n",
       "      <td>14.0</td>\n",
       "      <td>6622336.0</td>\n",
       "    </tr>\n",
       "    <tr>\n",
       "      <th>min</th>\n",
       "      <td>2.0</td>\n",
       "      <td>3.0</td>\n",
       "      <td>2.0</td>\n",
       "      <td>2.0</td>\n",
       "      <td>2.0</td>\n",
       "      <td>194100.0</td>\n",
       "    </tr>\n",
       "    <tr>\n",
       "      <th>25%</th>\n",
       "      <td>7.0</td>\n",
       "      <td>7.0</td>\n",
       "      <td>6.0</td>\n",
       "      <td>7.0</td>\n",
       "      <td>7.0</td>\n",
       "      <td>1466200.0</td>\n",
       "    </tr>\n",
       "    <tr>\n",
       "      <th>50%</th>\n",
       "      <td>18.0</td>\n",
       "      <td>18.0</td>\n",
       "      <td>17.0</td>\n",
       "      <td>18.0</td>\n",
       "      <td>18.0</td>\n",
       "      <td>3290900.0</td>\n",
       "    </tr>\n",
       "    <tr>\n",
       "      <th>75%</th>\n",
       "      <td>27.0</td>\n",
       "      <td>28.0</td>\n",
       "      <td>26.0</td>\n",
       "      <td>27.0</td>\n",
       "      <td>27.0</td>\n",
       "      <td>6594900.0</td>\n",
       "    </tr>\n",
       "    <tr>\n",
       "      <th>max</th>\n",
       "      <td>67.0</td>\n",
       "      <td>70.0</td>\n",
       "      <td>64.0</td>\n",
       "      <td>66.0</td>\n",
       "      <td>66.0</td>\n",
       "      <td>57440100.0</td>\n",
       "    </tr>\n",
       "  </tbody>\n",
       "</table>\n",
       "</div>"
      ],
      "text/plain": [
       "        Open   High    Low  Close  Adj Close      Volume\n",
       "count  653.0  653.0  653.0  653.0      653.0       653.0\n",
       "mean    19.0   20.0   18.0   19.0       19.0   5496232.0\n",
       "std     14.0   15.0   13.0   14.0       14.0   6622336.0\n",
       "min      2.0    3.0    2.0    2.0        2.0    194100.0\n",
       "25%      7.0    7.0    6.0    7.0        7.0   1466200.0\n",
       "50%     18.0   18.0   17.0   18.0       18.0   3290900.0\n",
       "75%     27.0   28.0   26.0   27.0       27.0   6594900.0\n",
       "max     67.0   70.0   64.0   66.0       66.0  57440100.0"
      ]
     },
     "execution_count": 7,
     "metadata": {},
     "output_type": "execute_result"
    }
   ],
   "source": [
    "df.describe().round(0)"
   ]
  },
  {
   "cell_type": "code",
   "execution_count": 8,
   "id": "06265f20-20c5-4a55-883e-b4f1a717c6e7",
   "metadata": {},
   "outputs": [],
   "source": [
    "A=np.array([df[\"Close\"]==df[\"Adj Close\"]])"
   ]
  },
  {
   "cell_type": "code",
   "execution_count": 9,
   "id": "f12f94c7-debd-4be3-8b11-90cae95ac772",
   "metadata": {},
   "outputs": [
    {
     "data": {
      "text/plain": [
       "array([ True])"
      ]
     },
     "execution_count": 9,
     "metadata": {},
     "output_type": "execute_result"
    }
   ],
   "source": [
    "np.unique(A)"
   ]
  },
  {
   "cell_type": "markdown",
   "id": "219c0c81-82f2-460b-9cd1-84f51120d9c2",
   "metadata": {},
   "source": [
    "Como observamos en el split anterior, vemos que la columna de Close y Adj Close son las mismas, solamente que con una escritura diferente. A razón de esto, procederemos a eliminar la columna de Close"
   ]
  },
  {
   "cell_type": "code",
   "execution_count": 10,
   "id": "a4aedc96-e0d5-466f-bc7b-f346655739b6",
   "metadata": {},
   "outputs": [],
   "source": [
    "df=df.drop(\"Close\",axis=1)"
   ]
  },
  {
   "cell_type": "code",
   "execution_count": 11,
   "id": "2feb2427-9ef0-4396-afdf-67ea107c559f",
   "metadata": {},
   "outputs": [
    {
     "name": "stdout",
     "output_type": "stream",
     "text": [
      "<class 'pandas.core.frame.DataFrame'>\n",
      "RangeIndex: 653 entries, 0 to 652\n",
      "Data columns (total 6 columns):\n",
      " #   Column     Non-Null Count  Dtype         \n",
      "---  ------     --------------  -----         \n",
      " 0   Date       653 non-null    datetime64[ns]\n",
      " 1   Open       653 non-null    float64       \n",
      " 2   High       653 non-null    float64       \n",
      " 3   Low        653 non-null    float64       \n",
      " 4   Adj Close  653 non-null    float64       \n",
      " 5   Volume     653 non-null    int64         \n",
      "dtypes: datetime64[ns](1), float64(4), int64(1)\n",
      "memory usage: 30.7 KB\n"
     ]
    }
   ],
   "source": [
    "df.info()"
   ]
  },
  {
   "cell_type": "code",
   "execution_count": 14,
   "id": "8213e480-0a65-4d65-b736-2a35bc7f5562",
   "metadata": {},
   "outputs": [],
   "source": [
    "df.to_csv(\"E:/piere/Documentos/Portafolio/JMIA/Data/Proccesed/JMIA_Limpia.csv\",index=False)"
   ]
  }
 ],
 "metadata": {
  "kernelspec": {
   "display_name": "Python 3 (ipykernel)",
   "language": "python",
   "name": "python3"
  },
  "language_info": {
   "codemirror_mode": {
    "name": "ipython",
    "version": 3
   },
   "file_extension": ".py",
   "mimetype": "text/x-python",
   "name": "python",
   "nbconvert_exporter": "python",
   "pygments_lexer": "ipython3",
   "version": "3.9.12"
  }
 },
 "nbformat": 4,
 "nbformat_minor": 5
}
