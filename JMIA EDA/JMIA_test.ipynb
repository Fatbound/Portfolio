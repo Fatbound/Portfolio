{
 "cells": [
  {
   "cell_type": "markdown",
   "id": "39761cd7-304f-45e4-89b2-cfe24730a1ed",
   "metadata": {},
   "source": [
    "### Este es el dataset de kaggle para practicar manejo de datos"
   ]
  },
  {
   "cell_type": "code",
   "execution_count": 171,
   "id": "7b977e75-096b-4422-9f59-5dd369c9e82f",
   "metadata": {},
   "outputs": [],
   "source": [
    "import pandas as pd\n",
    "import numpy as np\n",
    "import matplotlib.pyplot as plt\n",
    "import seaborn as sns\n",
    "import matplotlib.pyplot as plt\n",
    "import matplotlib.dates as mdates\n",
    "import matplotlib.cbook as cbook"
   ]
  },
  {
   "cell_type": "code",
   "execution_count": 11,
   "id": "2b6c0e10-812c-4b29-8284-cf5b143bdbf7",
   "metadata": {},
   "outputs": [],
   "source": [
    "\n",
    "df=pd.read_csv(r\"C:\\Users\\piere\\Curso python en linea\\Proyectos personales\\Dataset 1\\JMIA.csv\")"
   ]
  },
  {
   "cell_type": "code",
   "execution_count": 13,
   "id": "ec92a100-89ce-4649-bc41-3f72af316135",
   "metadata": {},
   "outputs": [
    {
     "data": {
      "text/html": [
       "<div>\n",
       "<style scoped>\n",
       "    .dataframe tbody tr th:only-of-type {\n",
       "        vertical-align: middle;\n",
       "    }\n",
       "\n",
       "    .dataframe tbody tr th {\n",
       "        vertical-align: top;\n",
       "    }\n",
       "\n",
       "    .dataframe thead th {\n",
       "        text-align: right;\n",
       "    }\n",
       "</style>\n",
       "<table border=\"1\" class=\"dataframe\">\n",
       "  <thead>\n",
       "    <tr style=\"text-align: right;\">\n",
       "      <th></th>\n",
       "      <th>Date</th>\n",
       "      <th>Open</th>\n",
       "      <th>High</th>\n",
       "      <th>Low</th>\n",
       "      <th>Close</th>\n",
       "      <th>Adj Close</th>\n",
       "      <th>Volume</th>\n",
       "    </tr>\n",
       "  </thead>\n",
       "  <tbody>\n",
       "    <tr>\n",
       "      <th>0</th>\n",
       "      <td>2019-04-12</td>\n",
       "      <td>18.950001</td>\n",
       "      <td>25.459999</td>\n",
       "      <td>18.260000</td>\n",
       "      <td>25.459999</td>\n",
       "      <td>25.459999</td>\n",
       "      <td>9472300</td>\n",
       "    </tr>\n",
       "    <tr>\n",
       "      <th>1</th>\n",
       "      <td>2019-04-15</td>\n",
       "      <td>26.940001</td>\n",
       "      <td>39.950001</td>\n",
       "      <td>25.629999</td>\n",
       "      <td>31.910000</td>\n",
       "      <td>31.910000</td>\n",
       "      <td>12857300</td>\n",
       "    </tr>\n",
       "    <tr>\n",
       "      <th>2</th>\n",
       "      <td>2019-04-16</td>\n",
       "      <td>35.330002</td>\n",
       "      <td>43.500000</td>\n",
       "      <td>33.099998</td>\n",
       "      <td>43.040001</td>\n",
       "      <td>43.040001</td>\n",
       "      <td>12939400</td>\n",
       "    </tr>\n",
       "    <tr>\n",
       "      <th>3</th>\n",
       "      <td>2019-04-17</td>\n",
       "      <td>47.689999</td>\n",
       "      <td>49.770000</td>\n",
       "      <td>36.209999</td>\n",
       "      <td>40.070000</td>\n",
       "      <td>40.070000</td>\n",
       "      <td>14110300</td>\n",
       "    </tr>\n",
       "    <tr>\n",
       "      <th>4</th>\n",
       "      <td>2019-04-18</td>\n",
       "      <td>38.150002</td>\n",
       "      <td>38.400002</td>\n",
       "      <td>31.700001</td>\n",
       "      <td>35.150002</td>\n",
       "      <td>35.150002</td>\n",
       "      <td>6954400</td>\n",
       "    </tr>\n",
       "  </tbody>\n",
       "</table>\n",
       "</div>"
      ],
      "text/plain": [
       "         Date       Open       High        Low      Close  Adj Close    Volume\n",
       "0  2019-04-12  18.950001  25.459999  18.260000  25.459999  25.459999   9472300\n",
       "1  2019-04-15  26.940001  39.950001  25.629999  31.910000  31.910000  12857300\n",
       "2  2019-04-16  35.330002  43.500000  33.099998  43.040001  43.040001  12939400\n",
       "3  2019-04-17  47.689999  49.770000  36.209999  40.070000  40.070000  14110300\n",
       "4  2019-04-18  38.150002  38.400002  31.700001  35.150002  35.150002   6954400"
      ]
     },
     "execution_count": 13,
     "metadata": {},
     "output_type": "execute_result"
    }
   ],
   "source": [
    "df.head()"
   ]
  },
  {
   "cell_type": "code",
   "execution_count": 15,
   "id": "ea29a3a5-13ec-489e-a356-e61b12b179cd",
   "metadata": {},
   "outputs": [
    {
     "data": {
      "text/html": [
       "<div>\n",
       "<style scoped>\n",
       "    .dataframe tbody tr th:only-of-type {\n",
       "        vertical-align: middle;\n",
       "    }\n",
       "\n",
       "    .dataframe tbody tr th {\n",
       "        vertical-align: top;\n",
       "    }\n",
       "\n",
       "    .dataframe thead th {\n",
       "        text-align: right;\n",
       "    }\n",
       "</style>\n",
       "<table border=\"1\" class=\"dataframe\">\n",
       "  <thead>\n",
       "    <tr style=\"text-align: right;\">\n",
       "      <th></th>\n",
       "      <th>Date</th>\n",
       "      <th>Open</th>\n",
       "      <th>High</th>\n",
       "      <th>Low</th>\n",
       "      <th>Close</th>\n",
       "      <th>Adj Close</th>\n",
       "      <th>Volume</th>\n",
       "    </tr>\n",
       "  </thead>\n",
       "  <tbody>\n",
       "    <tr>\n",
       "      <th>648</th>\n",
       "      <td>2021-11-05</td>\n",
       "      <td>18.540001</td>\n",
       "      <td>18.629999</td>\n",
       "      <td>18.059999</td>\n",
       "      <td>18.400000</td>\n",
       "      <td>18.400000</td>\n",
       "      <td>2517500</td>\n",
       "    </tr>\n",
       "    <tr>\n",
       "      <th>649</th>\n",
       "      <td>2021-11-08</td>\n",
       "      <td>18.559999</td>\n",
       "      <td>19.690001</td>\n",
       "      <td>18.500000</td>\n",
       "      <td>19.160000</td>\n",
       "      <td>19.160000</td>\n",
       "      <td>3933200</td>\n",
       "    </tr>\n",
       "    <tr>\n",
       "      <th>650</th>\n",
       "      <td>2021-11-09</td>\n",
       "      <td>19.309999</td>\n",
       "      <td>19.400000</td>\n",
       "      <td>18.309999</td>\n",
       "      <td>18.650000</td>\n",
       "      <td>18.650000</td>\n",
       "      <td>3046200</td>\n",
       "    </tr>\n",
       "    <tr>\n",
       "      <th>651</th>\n",
       "      <td>2021-11-10</td>\n",
       "      <td>18.530001</td>\n",
       "      <td>18.900000</td>\n",
       "      <td>17.809999</td>\n",
       "      <td>18.080000</td>\n",
       "      <td>18.080000</td>\n",
       "      <td>3212000</td>\n",
       "    </tr>\n",
       "    <tr>\n",
       "      <th>652</th>\n",
       "      <td>2021-11-11</td>\n",
       "      <td>18.290001</td>\n",
       "      <td>18.690001</td>\n",
       "      <td>18.219999</td>\n",
       "      <td>18.309999</td>\n",
       "      <td>18.309999</td>\n",
       "      <td>2297100</td>\n",
       "    </tr>\n",
       "  </tbody>\n",
       "</table>\n",
       "</div>"
      ],
      "text/plain": [
       "           Date       Open       High        Low      Close  Adj Close  \\\n",
       "648  2021-11-05  18.540001  18.629999  18.059999  18.400000  18.400000   \n",
       "649  2021-11-08  18.559999  19.690001  18.500000  19.160000  19.160000   \n",
       "650  2021-11-09  19.309999  19.400000  18.309999  18.650000  18.650000   \n",
       "651  2021-11-10  18.530001  18.900000  17.809999  18.080000  18.080000   \n",
       "652  2021-11-11  18.290001  18.690001  18.219999  18.309999  18.309999   \n",
       "\n",
       "      Volume  \n",
       "648  2517500  \n",
       "649  3933200  \n",
       "650  3046200  \n",
       "651  3212000  \n",
       "652  2297100  "
      ]
     },
     "execution_count": 15,
     "metadata": {},
     "output_type": "execute_result"
    }
   ],
   "source": [
    "df.tail()"
   ]
  },
  {
   "cell_type": "code",
   "execution_count": 142,
   "id": "7206e274-7288-4918-8817-52cc9288a7b6",
   "metadata": {},
   "outputs": [
    {
     "data": {
      "text/plain": [
       "Date          object\n",
       "Open         float64\n",
       "High         float64\n",
       "Low          float64\n",
       "Close        float64\n",
       "Adj Close    float64\n",
       "Volume         int64\n",
       "dtype: object"
      ]
     },
     "execution_count": 142,
     "metadata": {},
     "output_type": "execute_result"
    }
   ],
   "source": [
    "df.dtypes"
   ]
  },
  {
   "cell_type": "code",
   "execution_count": 167,
   "id": "6ad89f11-62dc-4399-8ace-e15b70e69d38",
   "metadata": {},
   "outputs": [],
   "source": [
    "df[\"Date\"]=pd.to_datetime(df[\"Date\"],format='%Y%m%d')"
   ]
  },
  {
   "cell_type": "code",
   "execution_count": 168,
   "id": "8b02bb4d-adfb-466c-9d96-b9e5a50e1063",
   "metadata": {},
   "outputs": [
    {
     "data": {
      "text/html": [
       "<div>\n",
       "<style scoped>\n",
       "    .dataframe tbody tr th:only-of-type {\n",
       "        vertical-align: middle;\n",
       "    }\n",
       "\n",
       "    .dataframe tbody tr th {\n",
       "        vertical-align: top;\n",
       "    }\n",
       "\n",
       "    .dataframe thead th {\n",
       "        text-align: right;\n",
       "    }\n",
       "</style>\n",
       "<table border=\"1\" class=\"dataframe\">\n",
       "  <thead>\n",
       "    <tr style=\"text-align: right;\">\n",
       "      <th></th>\n",
       "      <th>Date</th>\n",
       "      <th>Open</th>\n",
       "      <th>High</th>\n",
       "      <th>Low</th>\n",
       "      <th>Close</th>\n",
       "      <th>Adj Close</th>\n",
       "      <th>Volume</th>\n",
       "    </tr>\n",
       "  </thead>\n",
       "  <tbody>\n",
       "    <tr>\n",
       "      <th>0</th>\n",
       "      <td>2019-04-12</td>\n",
       "      <td>18.950001</td>\n",
       "      <td>25.459999</td>\n",
       "      <td>18.260000</td>\n",
       "      <td>25.459999</td>\n",
       "      <td>25.459999</td>\n",
       "      <td>9472300</td>\n",
       "    </tr>\n",
       "    <tr>\n",
       "      <th>1</th>\n",
       "      <td>2019-04-15</td>\n",
       "      <td>26.940001</td>\n",
       "      <td>39.950001</td>\n",
       "      <td>25.629999</td>\n",
       "      <td>31.910000</td>\n",
       "      <td>31.910000</td>\n",
       "      <td>12857300</td>\n",
       "    </tr>\n",
       "    <tr>\n",
       "      <th>2</th>\n",
       "      <td>2019-04-16</td>\n",
       "      <td>35.330002</td>\n",
       "      <td>43.500000</td>\n",
       "      <td>33.099998</td>\n",
       "      <td>43.040001</td>\n",
       "      <td>43.040001</td>\n",
       "      <td>12939400</td>\n",
       "    </tr>\n",
       "    <tr>\n",
       "      <th>3</th>\n",
       "      <td>2019-04-17</td>\n",
       "      <td>47.689999</td>\n",
       "      <td>49.770000</td>\n",
       "      <td>36.209999</td>\n",
       "      <td>40.070000</td>\n",
       "      <td>40.070000</td>\n",
       "      <td>14110300</td>\n",
       "    </tr>\n",
       "    <tr>\n",
       "      <th>4</th>\n",
       "      <td>2019-04-18</td>\n",
       "      <td>38.150002</td>\n",
       "      <td>38.400002</td>\n",
       "      <td>31.700001</td>\n",
       "      <td>35.150002</td>\n",
       "      <td>35.150002</td>\n",
       "      <td>6954400</td>\n",
       "    </tr>\n",
       "  </tbody>\n",
       "</table>\n",
       "</div>"
      ],
      "text/plain": [
       "        Date       Open       High        Low      Close  Adj Close    Volume\n",
       "0 2019-04-12  18.950001  25.459999  18.260000  25.459999  25.459999   9472300\n",
       "1 2019-04-15  26.940001  39.950001  25.629999  31.910000  31.910000  12857300\n",
       "2 2019-04-16  35.330002  43.500000  33.099998  43.040001  43.040001  12939400\n",
       "3 2019-04-17  47.689999  49.770000  36.209999  40.070000  40.070000  14110300\n",
       "4 2019-04-18  38.150002  38.400002  31.700001  35.150002  35.150002   6954400"
      ]
     },
     "execution_count": 168,
     "metadata": {},
     "output_type": "execute_result"
    }
   ],
   "source": [
    "df.head()"
   ]
  },
  {
   "cell_type": "code",
   "execution_count": 172,
   "id": "0b7a2518-0756-434b-93dd-18a8feddbb49",
   "metadata": {},
   "outputs": [
    {
     "name": "stderr",
     "output_type": "stream",
     "text": [
      "C:\\Users\\piere\\AppData\\Local\\Temp/ipykernel_11160/798058231.py:2: UserWarning: FixedFormatter should only be used together with FixedLocator\n",
      "  f.set_xticklabels(df.Date[::50],rotation=90,linespacing=2)\n"
     ]
    },
    {
     "data": {
      "text/plain": [
       "[<matplotlib.lines.Line2D at 0x29e840fb670>]"
      ]
     },
     "execution_count": 172,
     "metadata": {},
     "output_type": "execute_result"
    },
    {
     "data": {
      "image/png": "[encoded data removed]",
      "text/plain": [
       "<Figure size 432x432 with 1 Axes>"
      ]
     },
     "metadata": {},
     "output_type": "display_data"
    }
   ],
   "source": [
    "h,f=plt.subplots(figsize=(6,6))\n",
    "f.set_xticklabels(df.Date[::50],rotation=90,linespacing=2)\n",
    "f.xaxis.set_major_formatter(mdates.DateFormatter('%Y-%b'))\n",
    "f.plot(df.Date,df.Close)"
   ]
  }
 ],
 "metadata": {
  "kernelspec": {
   "display_name": "Python 3 (ipykernel)",
   "language": "python",
   "name": "python3"
  },
  "language_info": {
   "codemirror_mode": {
    "name": "ipython",
    "version": 3
   },
   "file_extension": ".py",
   "mimetype": "text/x-python",
   "name": "python",
   "nbconvert_exporter": "python",
   "pygments_lexer": "ipython3",
   "version": "3.9.7"
  }
 },
 "nbformat": 4,
 "nbformat_minor": 5
}
