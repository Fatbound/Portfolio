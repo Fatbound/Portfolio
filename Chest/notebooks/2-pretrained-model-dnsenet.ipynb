{
 "cells": [
  {
   "cell_type": "code",
   "execution_count": 1,
   "metadata": {
    "execution": {
     "iopub.execute_input": "2022-07-22T01:16:40.936071Z",
     "iopub.status.busy": "2022-07-22T01:16:40.935309Z",
     "iopub.status.idle": "2022-07-22T01:16:46.496774Z",
     "shell.execute_reply": "2022-07-22T01:16:46.495784Z",
     "shell.execute_reply.started": "2022-07-22T01:16:40.935940Z"
    }
   },
   "outputs": [],
   "source": [
    "import tensorflow as tf\n",
    "from tensorflow.keras.layers import Dense, MaxPooling2D, Conv2D, Flatten, Dropout, BatchNormalization\n",
    "from tensorflow.keras import regularizers\n",
    "from tensorflow.keras.preprocessing.image import ImageDataGenerator\n",
    "import numpy as np\n",
    "import matplotlib.pyplot as plt\n",
    "plt.style.use('ggplot')"
   ]
  },
  {
   "cell_type": "code",
   "execution_count": 2,
   "metadata": {
    "execution": {
     "iopub.execute_input": "2022-07-22T01:16:46.499455Z",
     "iopub.status.busy": "2022-07-22T01:16:46.498789Z",
     "iopub.status.idle": "2022-07-22T01:16:46.508216Z",
     "shell.execute_reply": "2022-07-22T01:16:46.506224Z",
     "shell.execute_reply.started": "2022-07-22T01:16:46.499417Z"
    }
   },
   "outputs": [],
   "source": [
    "train_paht='../input/chest-ctscan-images/Data/train'\n",
    "test_path='../input/chest-ctscan-images/Data/test'\n",
    "validation_path='../input/chest-ctscan-images/Data/valid'"
   ]
  },
  {
   "cell_type": "code",
   "execution_count": 18,
   "metadata": {
    "execution": {
     "iopub.execute_input": "2022-07-22T01:44:11.766851Z",
     "iopub.status.busy": "2022-07-22T01:44:11.766203Z",
     "iopub.status.idle": "2022-07-22T01:44:11.773278Z",
     "shell.execute_reply": "2022-07-22T01:44:11.772316Z",
     "shell.execute_reply.started": "2022-07-22T01:44:11.766814Z"
    }
   },
   "outputs": [],
   "source": [
    "train_datagen=ImageDataGenerator(rescale=1/255, vertical_flip=True, fill_mode='reflect')\n",
    "test_datagen=ImageDataGenerator(rescale=1/255,  vertical_flip=True, fill_mode='reflect')\n",
    "validation_datagen=ImageDataGenerator(rescale=1/255, vertical_flip=True, fill_mode='reflect')"
   ]
  },
  {
   "cell_type": "code",
   "execution_count": 19,
   "metadata": {
    "execution": {
     "iopub.execute_input": "2022-07-22T01:44:14.218534Z",
     "iopub.status.busy": "2022-07-22T01:44:14.218189Z",
     "iopub.status.idle": "2022-07-22T01:44:14.564309Z",
     "shell.execute_reply": "2022-07-22T01:44:14.563314Z",
     "shell.execute_reply.started": "2022-07-22T01:44:14.218503Z"
    }
   },
   "outputs": [],
   "source": [
    "train_geneator=train_datagen.flow_from_directory(train_paht,\n",
    "                                                target_size=(200,200),\n",
    "                                                color_mode='rgb',\n",
    "                                                 batch_size=128,\n",
    "                                                subset='training',\n",
    "                                                class_mode='categorical')\n",
    "test_generator=test_datagen.flow_from_directory(test_path,\n",
    "                                               target_size=(200,200),\n",
    "                                               color_mode='rgb',\n",
    "                                                batch_size=128,\n",
    "                                               class_mode='categorical')\n",
    "                                             \n",
    "validation_generator=validation_datagen.flow_from_directory(validation_path,\n",
    "                                                           target_size=(200,200),\n",
    "                                                            color_mode='rgb',\n",
    "                                                            batch_size=128,\n",
    "                                                            class_mode='categorical')"
   ]
  },
  {
   "cell_type": "code",
   "execution_count": 10,
   "metadata": {
    "execution": {
     "iopub.execute_input": "2022-07-22T01:28:12.065717Z",
     "iopub.status.busy": "2022-07-22T01:28:12.065369Z",
     "iopub.status.idle": "2022-07-22T01:28:12.072867Z",
     "shell.execute_reply": "2022-07-22T01:28:12.071935Z",
     "shell.execute_reply.started": "2022-07-22T01:28:12.065689Z"
    }
   },
   "outputs": [],
   "source": [
    "from tensorflow.keras.applications.densenet import DenseNet121\n",
    "from tensorflow.keras.callbacks import ModelCheckpoint"
   ]
  },
  {
   "cell_type": "code",
   "execution_count": 7,
   "metadata": {
    "execution": {
     "iopub.execute_input": "2022-07-22T01:23:09.574796Z",
     "iopub.status.busy": "2022-07-22T01:23:09.574445Z",
     "iopub.status.idle": "2022-07-22T01:23:09.579379Z",
     "shell.execute_reply": "2022-07-22T01:23:09.578327Z",
     "shell.execute_reply.started": "2022-07-22T01:23:09.574766Z"
    }
   },
   "outputs": [],
   "source": [
    "checkpoint=ModelCheckpoint('best_model.h5', monitor='val_accuracy', verbose=1, save_best_only=True)"
   ]
  },
  {
   "cell_type": "code",
   "execution_count": 39,
   "metadata": {
    "execution": {
     "iopub.execute_input": "2022-07-22T02:23:30.151180Z",
     "iopub.status.busy": "2022-07-22T02:23:30.150693Z",
     "iopub.status.idle": "2022-07-22T02:23:32.699242Z",
     "shell.execute_reply": "2022-07-22T02:23:32.698228Z",
     "shell.execute_reply.started": "2022-07-22T02:23:30.151145Z"
    }
   },
   "outputs": [],
   "source": [
    "pre_trained_model=DenseNet121(include_top=False,weights='imagenet',input_tensor=tf.keras.layers.Input(shape=(200,200,3)))\n",
    "for layer in pre_trained_model.layers:\n",
    "    layer.trainable=False"
   ]
  },
  {
   "cell_type": "code",
   "execution_count": 41,
   "metadata": {
    "execution": {
     "iopub.execute_input": "2022-07-22T02:25:02.232759Z",
     "iopub.status.busy": "2022-07-22T02:25:02.232377Z",
     "iopub.status.idle": "2022-07-22T02:25:02.239026Z",
     "shell.execute_reply": "2022-07-22T02:25:02.237984Z",
     "shell.execute_reply.started": "2022-07-22T02:25:02.232725Z"
    }
   },
   "outputs": [],
   "source": [
    "last_layer=pre_trained_model.get_layer('relu')\n",
    "last_ouput=last_layer.output"
   ]
  },
  {
   "cell_type": "code",
   "execution_count": 43,
   "metadata": {
    "execution": {
     "iopub.execute_input": "2022-07-22T02:25:38.770652Z",
     "iopub.status.busy": "2022-07-22T02:25:38.770302Z",
     "iopub.status.idle": "2022-07-22T02:25:38.865198Z",
     "shell.execute_reply": "2022-07-22T02:25:38.864258Z",
     "shell.execute_reply.started": "2022-07-22T02:25:38.770623Z"
    }
   },
   "outputs": [],
   "source": [
    "x = tf.keras.layers.Flatten()(last_ouput)\n",
    "x = tf.keras.layers.Dropout(0.25)(x)\n",
    "x = tf.keras.layers.Dense(4, activation='softmax')(x)\n",
    "\n",
    "model_dense=tf.keras.Model(pre_trained_model.input, x)\n",
    "\n",
    "model_dense.compile(optimizer='adam', loss='categorical_crossentropy', metrics=[\"accuracy\"])\n",
    "model_dense.summary()"
   ]
  },
  {
   "cell_type": "code",
   "execution_count": 44,
   "metadata": {
    "execution": {
     "iopub.execute_input": "2022-07-22T02:25:49.521004Z",
     "iopub.status.busy": "2022-07-22T02:25:49.520636Z",
     "iopub.status.idle": "2022-07-22T02:33:12.924730Z",
     "shell.execute_reply": "2022-07-22T02:33:12.923275Z",
     "shell.execute_reply.started": "2022-07-22T02:25:49.520968Z"
    }
   },
   "outputs": [],
   "source": [
    "history=model_dense.fit(train_geneator, epochs=100, callbacks=[checkpoint], validation_data=validation_generator)"
   ]
  },
  {
   "cell_type": "code",
   "execution_count": 45,
   "metadata": {
    "execution": {
     "iopub.execute_input": "2022-07-22T02:34:14.694680Z",
     "iopub.status.busy": "2022-07-22T02:34:14.694267Z",
     "iopub.status.idle": "2022-07-22T02:34:15.028502Z",
     "shell.execute_reply": "2022-07-22T02:34:15.027591Z",
     "shell.execute_reply.started": "2022-07-22T02:34:14.694640Z"
    }
   },
   "outputs": [],
   "source": [
    "epoch=[x for x in range(1,101)]\n",
    "fig, ax =plt.subplots(1,2,figsize=(12,5))\n",
    "ax[0].plot(epoch, history.history[\"accuracy\"])\n",
    "ax[0].plot(epoch, history.history[\"val_accuracy\"])\n",
    "ax[0].legend(labels=[\"accuracy\",\"val_accuracy\"])\n",
    "ax[1].plot(epoch, history.history[\"loss\"])\n",
    "ax[1].plot(epoch, history.history[\"val_loss\"])\n",
    "ax[1].legend(labels=[\"loss\",\"val_loss\"])\n",
    "ax[0].set_xlabel(\"Epoch\")\n",
    "ax[1].set_xlabel(\"Epoch\")\n",
    "ax[0].set_ylabel(\"accuracy\")\n",
    "ax[1].set_ylabel(\"Loss\")\n",
    "fig.suptitle(\"Model metrics\")\n",
    "plt.show()"
   ]
  },
  {
   "cell_type": "markdown",
   "metadata": {},
   "source": [
    "Comos vemos en la gráfica de los resultados anteriores, con un modelo pre entrenado obtenemos un accuracy máximo del 93 % en la data de validación. Por otro lado, en el siguiente apartado validaremos el modelo con mi data de test."
   ]
  },
  {
   "cell_type": "code",
   "execution_count": 115,
   "metadata": {
    "execution": {
     "iopub.execute_input": "2022-07-22T03:30:20.850201Z",
     "iopub.status.busy": "2022-07-22T03:30:20.849821Z",
     "iopub.status.idle": "2022-07-22T03:30:28.220585Z",
     "shell.execute_reply": "2022-07-22T03:30:28.219625Z",
     "shell.execute_reply.started": "2022-07-22T03:30:20.850168Z"
    }
   },
   "outputs": [],
   "source": [
    "print(model_dense.evaluate(train_geneator))\n",
    "print(model_dense.evaluate(validation_generator))\n",
    "print(model_dense.evaluate(test_generator))\n"
   ]
  },
  {
   "cell_type": "markdown",
   "metadata": {},
   "source": [
    "# conclusiónes\n",
    "\n",
    "* Logramos desarrollar una red neuronal con un accuracy del 82 % en mis datos de test, cabe aclarar que este modelo presenta overfitting, ya que muestra una diferencia porcentual notoria entre mis datos de Train y mis datos de Test. Sin embargo, logramos obtener un buen resultado en comparación con el desarrollado en el anterior notebook.\n",
    "* Implementamos con éxito un modelo pre entrenado como lo fue DenseNet, el cual mediante sus ventajas de neuronas y capas profundas realizadas por expertos, logramos mejorar de forma notoria nuestro desempeño dentro de nuestro conjunto de datos.\n",
    "\n",
    "# recomendaciones \n",
    "\n",
    "* Como recomendación general, podemos añadirle más capas a este modelo, donde busquemos reducir de forma considerable el Overfitting mediante Batch normalization o agregando regularizadores.\n"
   ]
  }
 ],
 "metadata": {
  "kernelspec": {
   "display_name": "Python 3 (ipykernel)",
   "language": "python",
   "name": "python3"
  },
  "language_info": {
   "codemirror_mode": {
    "name": "ipython",
    "version": 3
   },
   "file_extension": ".py",
   "mimetype": "text/x-python",
   "name": "python",
   "nbconvert_exporter": "python",
   "pygments_lexer": "ipython3",
   "version": "3.9.12"
  }
 },
 "nbformat": 4,
 "nbformat_minor": 4
}
