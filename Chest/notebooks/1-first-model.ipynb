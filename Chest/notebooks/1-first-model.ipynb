{
 "cells": [
  {
   "cell_type": "code",
   "execution_count": 1,
   "metadata": {
    "execution": {
     "iopub.execute_input": "2022-07-22T01:00:17.621034Z",
     "iopub.status.busy": "2022-07-22T01:00:17.620318Z",
     "iopub.status.idle": "2022-07-22T01:00:23.265255Z",
     "shell.execute_reply": "2022-07-22T01:00:23.264192Z",
     "shell.execute_reply.started": "2022-07-22T01:00:17.620936Z"
    }
   },
   "outputs": [],
   "source": [
    "import tensorflow as tf\n",
    "from tensorflow.keras.layers import Dense, MaxPooling2D, Conv2D, Flatten, Dropout, BatchNormalization\n",
    "from tensorflow.keras import regularizers\n",
    "from tensorflow.keras.preprocessing.image import ImageDataGenerator\n",
    "import numpy as np\n",
    "import matplotlib.pyplot as plt\n",
    "plt.style.use('ggplot')"
   ]
  },
  {
   "cell_type": "code",
   "execution_count": 2,
   "metadata": {
    "execution": {
     "iopub.execute_input": "2022-07-22T01:00:23.267616Z",
     "iopub.status.busy": "2022-07-22T01:00:23.266981Z",
     "iopub.status.idle": "2022-07-22T01:00:23.275788Z",
     "shell.execute_reply": "2022-07-22T01:00:23.274930Z",
     "shell.execute_reply.started": "2022-07-22T01:00:23.267580Z"
    }
   },
   "outputs": [],
   "source": [
    "train_paht='../input/chest-ctscan-images/Data/train'\n",
    "test_path='../input/chest-ctscan-images/Data/test'\n",
    "validation_path='../input/chest-ctscan-images/Data/valid'"
   ]
  },
  {
   "cell_type": "code",
   "execution_count": 3,
   "metadata": {
    "execution": {
     "iopub.execute_input": "2022-07-22T01:00:23.280142Z",
     "iopub.status.busy": "2022-07-22T01:00:23.279743Z",
     "iopub.status.idle": "2022-07-22T01:00:23.295005Z",
     "shell.execute_reply": "2022-07-22T01:00:23.294108Z",
     "shell.execute_reply.started": "2022-07-22T01:00:23.280103Z"
    }
   },
   "outputs": [],
   "source": [
    "train_datagen=ImageDataGenerator(rescale=1/255, vertical_flip=True, fill_mode='reflect')\n",
    "test_datagen=ImageDataGenerator(rescale=1/255,  vertical_flip=True, fill_mode='reflect')\n",
    "validation_datagen=ImageDataGenerator(rescale=1/255, vertical_flip=True, fill_mode='reflect')"
   ]
  },
  {
   "cell_type": "code",
   "execution_count": 4,
   "metadata": {
    "execution": {
     "iopub.execute_input": "2022-07-22T01:00:23.298281Z",
     "iopub.status.busy": "2022-07-22T01:00:23.297793Z",
     "iopub.status.idle": "2022-07-22T01:00:23.733638Z",
     "shell.execute_reply": "2022-07-22T01:00:23.732663Z",
     "shell.execute_reply.started": "2022-07-22T01:00:23.298233Z"
    }
   },
   "outputs": [],
   "source": [
    "train_geneator=train_datagen.flow_from_directory(train_paht,\n",
    "                                                target_size=(200,200),\n",
    "                                                color_mode='grayscale',\n",
    "                                                 batch_size=128,\n",
    "                                                subset='training',\n",
    "                                                class_mode='categorical')\n",
    "test_generator=test_datagen.flow_from_directory(test_path,\n",
    "                                               target_size=(200,200),\n",
    "                                               color_mode='grayscale',\n",
    "                                                batch_size=128,\n",
    "                                               class_mode='categorical')\n",
    "                                             \n",
    "validation_generator=validation_datagen.flow_from_directory(validation_path,\n",
    "                                                           target_size=(200,200),\n",
    "                                                            color_mode='grayscale',\n",
    "                                                            batch_size=128,\n",
    "                                                            class_mode='categorical')"
   ]
  },
  {
   "cell_type": "code",
   "execution_count": 5,
   "metadata": {
    "execution": {
     "iopub.execute_input": "2022-07-22T01:00:23.736769Z",
     "iopub.status.busy": "2022-07-22T01:00:23.736435Z",
     "iopub.status.idle": "2022-07-22T01:00:26.737029Z",
     "shell.execute_reply": "2022-07-22T01:00:26.736026Z",
     "shell.execute_reply.started": "2022-07-22T01:00:23.736741Z"
    }
   },
   "outputs": [],
   "source": [
    "model=tf.keras.Sequential()\n",
    "model.add(Conv2D(128, kernel_size=(3,3), padding='same', kernel_regularizer=regularizers.l1(1e-4), input_shape=(200,200,1), activation='relu'))\n",
    "model.add(MaxPooling2D((2,2)))\n",
    "          \n",
    "          \n",
    "model.add(Conv2D(128, kernel_size=(3,3), padding='same', kernel_regularizer=regularizers.l1(1e-4), activation='relu'))\n",
    "model.add(MaxPooling2D((2,2)))\n",
    "model.add(Dropout(0.25))\n",
    "\n",
    "model.add(Conv2D(128, kernel_size=(3,3), padding='same', kernel_regularizer=regularizers.l1(1e-4), activation='relu'))\n",
    "model.add(MaxPooling2D((2,2)))\n",
    "model.add(Dropout(0.25))\n",
    "          \n",
    "model.add(Flatten())\n",
    "model.add(Dense(64, kernel_regularizer=regularizers.l1(1e-5), activation='relu'))\n",
    "model.add(Dropout(0.25))\n",
    "          \n",
    "model.add(Dense(4, activation='softmax'))\n",
    "          \n",
    "model.summary()     "
   ]
  },
  {
   "cell_type": "code",
   "execution_count": 6,
   "metadata": {
    "execution": {
     "iopub.execute_input": "2022-07-22T01:00:26.739401Z",
     "iopub.status.busy": "2022-07-22T01:00:26.738742Z",
     "iopub.status.idle": "2022-07-22T01:00:26.751928Z",
     "shell.execute_reply": "2022-07-22T01:00:26.750946Z",
     "shell.execute_reply.started": "2022-07-22T01:00:26.739365Z"
    }
   },
   "outputs": [],
   "source": [
    "model.compile(optimizer='adam', loss='categorical_crossentropy', metrics=['accuracy'])"
   ]
  },
  {
   "cell_type": "code",
   "execution_count": 7,
   "metadata": {
    "execution": {
     "iopub.execute_input": "2022-07-22T01:00:26.753427Z",
     "iopub.status.busy": "2022-07-22T01:00:26.753031Z",
     "iopub.status.idle": "2022-07-22T01:01:57.094480Z",
     "shell.execute_reply": "2022-07-22T01:01:57.093447Z",
     "shell.execute_reply.started": "2022-07-22T01:00:26.753383Z"
    }
   },
   "outputs": [],
   "source": [
    "history=model.fit(train_geneator, epochs=20, validation_data=validation_generator)"
   ]
  },
  {
   "cell_type": "code",
   "execution_count": 8,
   "metadata": {
    "execution": {
     "iopub.execute_input": "2022-07-22T01:01:57.098122Z",
     "iopub.status.busy": "2022-07-22T01:01:57.097653Z",
     "iopub.status.idle": "2022-07-22T01:01:57.465215Z",
     "shell.execute_reply": "2022-07-22T01:01:57.464203Z",
     "shell.execute_reply.started": "2022-07-22T01:01:57.098085Z"
    }
   },
   "outputs": [],
   "source": [
    "epoch=[x for x in range(1,21)]\n",
    "fig, ax =plt.subplots(1,2,figsize=(12,5))\n",
    "ax[0].plot(epoch, history.history[\"accuracy\"])\n",
    "ax[0].plot(epoch, history.history[\"val_accuracy\"])\n",
    "ax[0].legend(labels=[\"accuracy\",\"val_accuracy\"])\n",
    "ax[1].plot(epoch, history.history[\"loss\"])\n",
    "ax[1].plot(epoch, history.history[\"val_loss\"])\n",
    "ax[1].legend(labels=[\"loss\",\"val_loss\"])\n",
    "ax[0].set_xlabel(\"Epoch\")\n",
    "ax[1].set_xlabel(\"Epoch\")\n",
    "ax[0].set_ylabel(\"accuracy\")\n",
    "ax[1].set_ylabel(\"Loss\")\n",
    "fig.suptitle(\"Model metrics\")\n",
    "plt.show()"
   ]
  },
  {
   "cell_type": "markdown",
   "metadata": {},
   "source": [
    "Al observar los resultados de mi primer modelo podemos inferir, que estamos observando el fenómeno de Overfitting en mi red neuronal. A razón, de la diferencia numérica observable entre mis datos de entrenamiento y validación, sumado a esto vemos unos porcentajes de perdida relativamente altos para obtener un buen modelo. En el siguiente jupyter mejoraré este modelo agregando un poco más de data augmentation, batch normalization  y una red neural preentrenada. Cabe aclarar que para mejorar el modelo y evitar este sobre ajuste podemos agregar o quitar capas a mi red."
   ]
  }
 ],
 "metadata": {
  "kernelspec": {
   "display_name": "Python 3 (ipykernel)",
   "language": "python",
   "name": "python3"
  },
  "language_info": {
   "codemirror_mode": {
    "name": "ipython",
    "version": 3
   },
   "file_extension": ".py",
   "mimetype": "text/x-python",
   "name": "python",
   "nbconvert_exporter": "python",
   "pygments_lexer": "ipython3",
   "version": "3.9.12"
  }
 },
 "nbformat": 4,
 "nbformat_minor": 4
}
