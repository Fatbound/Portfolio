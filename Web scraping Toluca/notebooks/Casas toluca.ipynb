{
 "cells": [
  {
   "cell_type": "markdown",
   "id": "4af18a1a-3849-4209-8d59-30cbed3150e7",
   "metadata": {},
   "source": [
    "### Casas en Toluca con mi novia hermosa"
   ]
  },
  {
   "cell_type": "markdown",
   "id": "7f8da956-0547-4e07-a07b-e9e0fa5e83a5",
   "metadata": {},
   "source": [
    "primero vamos a importar las librerias necesarias para extraer de internet"
   ]
  },
  {
   "cell_type": "code",
   "execution_count": 1,
   "id": "118cbd6d-4350-42a0-9ea4-1dddc1fc79c0",
   "metadata": {},
   "outputs": [
    {
     "ename": "ModuleNotFoundError",
     "evalue": "No module named 'selenium'",
     "output_type": "error",
     "traceback": [
      "\u001b[1;31m---------------------------------------------------------------------------\u001b[0m",
      "\u001b[1;31mModuleNotFoundError\u001b[0m                       Traceback (most recent call last)",
      "Input \u001b[1;32mIn [1]\u001b[0m, in \u001b[0;36m<cell line: 1>\u001b[1;34m()\u001b[0m\n\u001b[1;32m----> 1\u001b[0m \u001b[38;5;28;01mfrom\u001b[39;00m \u001b[38;5;21;01mselenium\u001b[39;00m \u001b[38;5;28;01mimport\u001b[39;00m webdriver\n\u001b[0;32m      2\u001b[0m \u001b[38;5;28;01mfrom\u001b[39;00m \u001b[38;5;21;01mbs4\u001b[39;00m \u001b[38;5;28;01mimport\u001b[39;00m BeautifulSoup \u001b[38;5;28;01mas\u001b[39;00m bs\n\u001b[0;32m      3\u001b[0m \u001b[38;5;28;01mimport\u001b[39;00m \u001b[38;5;21;01mpandas\u001b[39;00m \u001b[38;5;28;01mas\u001b[39;00m \u001b[38;5;21;01mpd\u001b[39;00m\n",
      "\u001b[1;31mModuleNotFoundError\u001b[0m: No module named 'selenium'"
     ]
    }
   ],
   "source": [
    "from selenium import webdriver\n",
    "from bs4 import BeautifulSoup as bs\n",
    "import pandas as pd\n",
    "import numpy as np\n",
    "import selenium.common.exceptions\n",
    "%matplotlib inline"
   ]
  },
  {
   "cell_type": "markdown",
   "id": "a7235be4-32c4-4ca8-a40b-3c0a7e321963",
   "metadata": {},
   "source": [
    "#### Ejecutamos el programa que nos permitira extraer datos de internet "
   ]
  },
  {
   "cell_type": "code",
   "execution_count": null,
   "id": "ea0ee7f8-6262-491e-9b79-21a96ec65c21",
   "metadata": {},
   "outputs": [],
   "source": [
    "driver=webdriver.Chrome(\"E:\\piere\\Desktop\\A2 Cursos\\Python\\chromedriver.exe\")"
   ]
  },
  {
   "cell_type": "markdown",
   "id": "ddecc52f-6bfb-4188-967b-ea2e524e6a7a",
   "metadata": {},
   "source": [
    " armamos las listas para saber que datos queremos extraer"
   ]
  },
  {
   "cell_type": "code",
   "execution_count": null,
   "id": "7371be6e-0c26-48bd-9868-d2f69fb461d3",
   "metadata": {},
   "outputs": [],
   "source": [
    "preciosucio=[]\n",
    "lugarsucio=[]\n",
    "m2sucio=[]\n",
    "habitacionessucio=[]\n",
    "bañossucio=[]"
   ]
  },
  {
   "cell_type": "markdown",
   "id": "bc294d2d-fb8f-412a-b6d4-ae8a815a6a35",
   "metadata": {},
   "source": [
    "ahora creamos las listas vacias para trabajar "
   ]
  },
  {
   "cell_type": "code",
   "execution_count": null,
   "id": "d373e34f-059a-42d4-a0a6-421fbc02d289",
   "metadata": {},
   "outputs": [],
   "source": [
    "precio=[]\n",
    "lugar=[]\n",
    "m2=[]\n",
    "habitaciones=[]\n",
    "baños=[]"
   ]
  },
  {
   "cell_type": "code",
   "execution_count": null,
   "id": "3a4207e3-4b5d-4ff8-b416-85b938410170",
   "metadata": {},
   "outputs": [],
   "source": [
    "page=2\n",
    "url=[]\n",
    "while page!=69:\n",
    "    url=f'https://www.icasas.mx/venta/habitacionales-casas-mexico-toluca-lerdo-2_5_15_0_760_0/p_{page}'\n",
    "    driver.get(url)\n",
    "    contenido=driver.page_source\n",
    "    soup=bs(contenido)\n",
    "    soup.title\n",
    "    for tarjeta in soup.find_all(\"div\",attrs={\"class\":\"ad-data\"}):\n",
    "        \n",
    "        try:\n",
    "            area=tarjeta.find(\"span\",attrs={\"class\":\"areaBuilt\"})\n",
    "            m2sucio.append(area.text)\n",
    "        except:\n",
    "            m2sucio.append(\"\")\n",
    "        try:    \n",
    "            MN=tarjeta.find(\"div\",attrs={\"class\":\"price\"})\n",
    "            preciosucio.append(MN.text)\n",
    "        except:    \n",
    "            preciosucio.append(\"\")\n",
    "        try:    \n",
    "            calle=tarjeta.find(\"a\",attrs={\"itemprop\":\"url\"})\n",
    "            lugarsucio.append(calle.text)\n",
    "        except:    \n",
    "            lugarsucio.append(\"\")\n",
    "        try:    \n",
    "            hb=tarjeta.find(\"span\",attrs={\"class\":\"rooms\"})\n",
    "            habitacionessucio.append(hb.text)\n",
    "        except:\n",
    "            habitacionessucio.append(\"\")\n",
    "        try:    \n",
    "            bñ=tarjeta.find(\"span\",attrs={\"class\":\"bathrooms\"})\n",
    "            bañossucio.append(bñ.text)\n",
    "        except:\n",
    "            bañossucio.append(\"\")   \n",
    "    page+=1   "
   ]
  },
  {
   "cell_type": "code",
   "execution_count": null,
   "id": "0755e953-c0b2-435b-97b6-f1fdd6a913b7",
   "metadata": {},
   "outputs": [],
   "source": [
    "for MN in preciosucio:\n",
    "    precio.append(MN.replace(\"\\t\",\"\"))"
   ]
  },
  {
   "cell_type": "code",
   "execution_count": null,
   "id": "ca640a14-3b11-4cba-9aaf-6aea09d0345a",
   "metadata": {},
   "outputs": [],
   "source": [
    "casadf=pd.DataFrame({\"Ubicación\":lugarsucio,\"Area\":m2sucio,\"Baños\":bañossucio,\"Habitaciones\":habitacionessucio,\"Precio\":precio})"
   ]
  },
  {
   "cell_type": "code",
   "execution_count": null,
   "id": "cbe6a53d-3513-4fb2-bae6-6255e0cae7e2",
   "metadata": {},
   "outputs": [],
   "source": [
    "casadf.shape"
   ]
  },
  {
   "cell_type": "code",
   "execution_count": null,
   "id": "cbc76c63-1861-45a2-8f9e-3af696d998e3",
   "metadata": {},
   "outputs": [],
   "source": [
    "casadf.head(5)"
   ]
  },
  {
   "cell_type": "code",
   "execution_count": null,
   "id": "f1557065-9140-4922-bcd0-9d84945ac8c8",
   "metadata": {},
   "outputs": [],
   "source": [
    "casadf.to_csv(\"Casa_toluca.csv\")"
   ]
  },
  {
   "cell_type": "code",
   "execution_count": null,
   "id": "3b6a06c4-fcfd-41a7-808b-e8cc799100e0",
   "metadata": {},
   "outputs": [],
   "source": [
    "casadf[\"Precio\"]=casadf[\"Precio\"].str.replace(\"MX\",\"\").str.replace(\"$\",\"\").str.replace(\",\",\"\")"
   ]
  },
  {
   "cell_type": "code",
   "execution_count": null,
   "id": "60c744b1-11a7-4f1f-98af-a1a26f43c7a9",
   "metadata": {},
   "outputs": [],
   "source": [
    "casadf[\"Area\"]=casadf[\"Area\"].str.replace(\"m2\",\"\").str.replace(\",\",\"\")"
   ]
  },
  {
   "cell_type": "code",
   "execution_count": null,
   "id": "bc807984-5f5b-4331-ba28-f1110830ea19",
   "metadata": {},
   "outputs": [],
   "source": [
    "casadf[\"Area\"]=casadf[\"Area\"].astype(float)"
   ]
  },
  {
   "cell_type": "code",
   "execution_count": null,
   "id": "f1d20958-0d41-4264-a8ea-b635b7986af3",
   "metadata": {},
   "outputs": [],
   "source": [
    "casadf.to_csv(\"Casa_toluca.csv\")"
   ]
  },
  {
   "cell_type": "code",
   "execution_count": null,
   "id": "4b12b69d-25ea-4c80-b7be-42bb44b355d8",
   "metadata": {},
   "outputs": [],
   "source": [
    "casadf[\"Area\"]=casadf[\"Area\"].str.replace(\"\",\"0\")"
   ]
  },
  {
   "cell_type": "code",
   "execution_count": null,
   "id": "762f1eaf-bbd6-4ac9-91fc-0720ac703d60",
   "metadata": {},
   "outputs": [],
   "source": [
    "casadf=pd.read_csv(\"Casa_toluca.csv\")"
   ]
  },
  {
   "cell_type": "code",
   "execution_count": null,
   "id": "ec4f0e1f-547c-47ef-9306-4ac597b45394",
   "metadata": {},
   "outputs": [],
   "source": [
    "casadf[\"Precio\"]=casadf[\"Precio\"].str.replace(\"Remate Bancario\",\"\").str.replace(r\"\\([()]*\\)\",\"\")"
   ]
  },
  {
   "cell_type": "code",
   "execution_count": null,
   "id": "74c7a7f6-eca8-452e-a7f0-b2918a306cbc",
   "metadata": {},
   "outputs": [],
   "source": [
    "casadf.to_csv(\"Casa_toluca.csv\")"
   ]
  },
  {
   "cell_type": "code",
   "execution_count": null,
   "id": "b2e13c2a-0c8f-4ace-91ca-d526f8b5ba1c",
   "metadata": {},
   "outputs": [],
   "source": []
  }
 ],
 "metadata": {
  "kernelspec": {
   "display_name": "Python 3 (ipykernel)",
   "language": "python",
   "name": "python3"
  },
  "language_info": {
   "codemirror_mode": {
    "name": "ipython",
    "version": 3
   },
   "file_extension": ".py",
   "mimetype": "text/x-python",
   "name": "python",
   "nbconvert_exporter": "python",
   "pygments_lexer": "ipython3",
   "version": "3.9.12"
  }
 },
 "nbformat": 4,
 "nbformat_minor": 5
}
