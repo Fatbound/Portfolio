{
 "cells": [
  {
   "cell_type": "markdown",
   "id": "4af18a1a-3849-4209-8d59-30cbed3150e7",
   "metadata": {},
   "source": [
    "### Web scrapping"
   ]
  },
  {
   "cell_type": "markdown",
   "id": "7f8da956-0547-4e07-a07b-e9e0fa5e83a5",
   "metadata": {},
   "source": [
    "primero vamos a importar las librerias necesarias para extraer de internet"
   ]
  },
  {
   "cell_type": "code",
   "execution_count": 29,
   "id": "118cbd6d-4350-42a0-9ea4-1dddc1fc79c0",
   "metadata": {},
   "outputs": [],
   "source": [
    "from selenium import webdriver\n",
    "from bs4 import BeautifulSoup as bs\n",
    "import pandas as pd\n",
    "import numpy as np\n",
    "import selenium.common.exceptions\n",
    "from selenium.webdriver.support.ui import WebDriverWait\n",
    "import warnings\n",
    "import time\n"
   ]
  },
  {
   "cell_type": "markdown",
   "id": "a7235be4-32c4-4ca8-a40b-3c0a7e321963",
   "metadata": {},
   "source": [
    "#### Ejecutamos el programa que nos permitira extraer datos de internet "
   ]
  },
  {
   "cell_type": "code",
   "execution_count": 40,
   "id": "ea0ee7f8-6262-491e-9b79-21a96ec65c21",
   "metadata": {},
   "outputs": [
    {
     "name": "stderr",
     "output_type": "stream",
     "text": [
      "C:\\Users\\piere\\AppData\\Local\\Temp\\ipykernel_9748\\3529765173.py:1: DeprecationWarning: executable_path has been deprecated, please pass in a Service object\n",
      "  driver=webdriver.Chrome(executable_path=\"E:\\piere\\Documentos\\Portafolio\\Web scraping Toluca\\Data\\RAW\\chromedriver.exe\")\n"
     ]
    }
   ],
   "source": [
    "\n",
    "driver=webdriver.Chrome(executable_path=\"E:\\piere\\Documentos\\Portafolio\\Web scraping Toluca\\Data\\RAW\\chromedriver.exe\")"
   ]
  },
  {
   "cell_type": "code",
   "execution_count": 41,
   "id": "60e48240-4bea-4716-b5fc-097bbf261498",
   "metadata": {},
   "outputs": [],
   "source": [
    "options = webdriver.ChromeOptions()\n",
    "options.add_argument(\"--incognito\")\n"
   ]
  },
  {
   "cell_type": "markdown",
   "id": "ddecc52f-6bfb-4188-967b-ea2e524e6a7a",
   "metadata": {},
   "source": [
    " armamos las listas para saber que datos queremos extraer"
   ]
  },
  {
   "cell_type": "code",
   "execution_count": 22,
   "id": "7371be6e-0c26-48bd-9868-d2f69fb461d3",
   "metadata": {},
   "outputs": [],
   "source": [
    "preciosucio=[]\n",
    "lugarsucio=[]\n",
    "m2sucio=[]\n",
    "habitacionessucio=[]\n",
    "bañossucio=[]"
   ]
  },
  {
   "cell_type": "markdown",
   "id": "bc294d2d-fb8f-412a-b6d4-ae8a815a6a35",
   "metadata": {},
   "source": [
    "ahora creamos las listas vacias para trabajar "
   ]
  },
  {
   "cell_type": "code",
   "execution_count": 23,
   "id": "d373e34f-059a-42d4-a0a6-421fbc02d289",
   "metadata": {},
   "outputs": [],
   "source": [
    "precio=[]\n",
    "lugar=[]\n",
    "m2=[]\n",
    "habitaciones=[]\n",
    "baños=[]"
   ]
  },
  {
   "cell_type": "code",
   "execution_count": 42,
   "id": "3a4207e3-4b5d-4ff8-b416-85b938410170",
   "metadata": {},
   "outputs": [
    {
     "ename": "WebDriverException",
     "evalue": "Message: unknown error: cannot determine loading status\nfrom unknown error: unexpected command response\n  (Session info: chrome=103.0.5060.114)\nStacktrace:\nBacktrace:\n\tOrdinal0 [0x002F6463+2188387]\n\tOrdinal0 [0x0028E461+1762401]\n\tOrdinal0 [0x001A3D78+802168]\n\tOrdinal0 [0x00197210+750096]\n\tOrdinal0 [0x0019675A+747354]\n\tOrdinal0 [0x00195D3F+744767]\n\tOrdinal0 [0x00194C28+740392]\n\tOrdinal0 [0x00195228+741928]\n\tOrdinal0 [0x0019F153+782675]\n\tOrdinal0 [0x001A9FBB+827323]\n\tOrdinal0 [0x001AD310+840464]\n\tOrdinal0 [0x001954F6+742646]\n\tOrdinal0 [0x001A9BF3+826355]\n\tOrdinal0 [0x001FCF6D+1167213]\n\tOrdinal0 [0x001EC5F6+1099254]\n\tOrdinal0 [0x001C6BE0+945120]\n\tOrdinal0 [0x001C7AD6+948950]\n\tGetHandleVerifier [0x005971F2+2712546]\n\tGetHandleVerifier [0x0058886D+2652765]\n\tGetHandleVerifier [0x0038002A+520730]\n\tGetHandleVerifier [0x0037EE06+516086]\n\tOrdinal0 [0x0029468B+1787531]\n\tOrdinal0 [0x00298E88+1805960]\n\tOrdinal0 [0x00298F75+1806197]\n\tOrdinal0 [0x002A1DF1+1842673]\n\tBaseThreadInitThunk [0x757FFA29+25]\n\tRtlGetAppContainerNamedObjectPath [0x777A7A9E+286]\n\tRtlGetAppContainerNamedObjectPath [0x777A7A6E+238]\n\t(No symbol) [0x00000000]\n",
     "output_type": "error",
     "traceback": [
      "\u001b[1;31m---------------------------------------------------------------------------\u001b[0m",
      "\u001b[1;31mWebDriverException\u001b[0m                        Traceback (most recent call last)",
      "Input \u001b[1;32mIn [42]\u001b[0m, in \u001b[0;36m<cell line: 3>\u001b[1;34m()\u001b[0m\n\u001b[0;32m      3\u001b[0m \u001b[38;5;28;01mwhile\u001b[39;00m page\u001b[38;5;241m!=\u001b[39m\u001b[38;5;241m69\u001b[39m:\n\u001b[0;32m      4\u001b[0m     url\u001b[38;5;241m=\u001b[39m\u001b[38;5;124mf\u001b[39m\u001b[38;5;124m'\u001b[39m\u001b[38;5;124mhttps://www.icasas.mx/venta/habitacionales-casas-mexico-toluca-lerdo-2_5_15_0_760_0/p_\u001b[39m\u001b[38;5;132;01m{\u001b[39;00mpage\u001b[38;5;132;01m}\u001b[39;00m\u001b[38;5;124m'\u001b[39m\n\u001b[1;32m----> 5\u001b[0m     \u001b[43mdriver\u001b[49m\u001b[38;5;241;43m.\u001b[39;49m\u001b[43mget\u001b[49m\u001b[43m(\u001b[49m\u001b[43murl\u001b[49m\u001b[43m)\u001b[49m\n\u001b[0;32m      6\u001b[0m     contenido\u001b[38;5;241m=\u001b[39mdriver\u001b[38;5;241m.\u001b[39mpage_source\n\u001b[0;32m      7\u001b[0m     soup\u001b[38;5;241m=\u001b[39mbs(contenido)\n",
      "File \u001b[1;32m~\\anaconda3\\lib\\site-packages\\selenium\\webdriver\\remote\\webdriver.py:447\u001b[0m, in \u001b[0;36mWebDriver.get\u001b[1;34m(self, url)\u001b[0m\n\u001b[0;32m    443\u001b[0m \u001b[38;5;28;01mdef\u001b[39;00m \u001b[38;5;21mget\u001b[39m(\u001b[38;5;28mself\u001b[39m, url: \u001b[38;5;28mstr\u001b[39m) \u001b[38;5;241m-\u001b[39m\u001b[38;5;241m>\u001b[39m \u001b[38;5;28;01mNone\u001b[39;00m:\n\u001b[0;32m    444\u001b[0m     \u001b[38;5;124;03m\"\"\"\u001b[39;00m\n\u001b[0;32m    445\u001b[0m \u001b[38;5;124;03m    Loads a web page in the current browser session.\u001b[39;00m\n\u001b[0;32m    446\u001b[0m \u001b[38;5;124;03m    \"\"\"\u001b[39;00m\n\u001b[1;32m--> 447\u001b[0m     \u001b[38;5;28;43mself\u001b[39;49m\u001b[38;5;241;43m.\u001b[39;49m\u001b[43mexecute\u001b[49m\u001b[43m(\u001b[49m\u001b[43mCommand\u001b[49m\u001b[38;5;241;43m.\u001b[39;49m\u001b[43mGET\u001b[49m\u001b[43m,\u001b[49m\u001b[43m \u001b[49m\u001b[43m{\u001b[49m\u001b[38;5;124;43m'\u001b[39;49m\u001b[38;5;124;43murl\u001b[39;49m\u001b[38;5;124;43m'\u001b[39;49m\u001b[43m:\u001b[49m\u001b[43m \u001b[49m\u001b[43murl\u001b[49m\u001b[43m}\u001b[49m\u001b[43m)\u001b[49m\n",
      "File \u001b[1;32m~\\anaconda3\\lib\\site-packages\\selenium\\webdriver\\remote\\webdriver.py:435\u001b[0m, in \u001b[0;36mWebDriver.execute\u001b[1;34m(self, driver_command, params)\u001b[0m\n\u001b[0;32m    433\u001b[0m response \u001b[38;5;241m=\u001b[39m \u001b[38;5;28mself\u001b[39m\u001b[38;5;241m.\u001b[39mcommand_executor\u001b[38;5;241m.\u001b[39mexecute(driver_command, params)\n\u001b[0;32m    434\u001b[0m \u001b[38;5;28;01mif\u001b[39;00m response:\n\u001b[1;32m--> 435\u001b[0m     \u001b[38;5;28;43mself\u001b[39;49m\u001b[38;5;241;43m.\u001b[39;49m\u001b[43merror_handler\u001b[49m\u001b[38;5;241;43m.\u001b[39;49m\u001b[43mcheck_response\u001b[49m\u001b[43m(\u001b[49m\u001b[43mresponse\u001b[49m\u001b[43m)\u001b[49m\n\u001b[0;32m    436\u001b[0m     response[\u001b[38;5;124m'\u001b[39m\u001b[38;5;124mvalue\u001b[39m\u001b[38;5;124m'\u001b[39m] \u001b[38;5;241m=\u001b[39m \u001b[38;5;28mself\u001b[39m\u001b[38;5;241m.\u001b[39m_unwrap_value(\n\u001b[0;32m    437\u001b[0m         response\u001b[38;5;241m.\u001b[39mget(\u001b[38;5;124m'\u001b[39m\u001b[38;5;124mvalue\u001b[39m\u001b[38;5;124m'\u001b[39m, \u001b[38;5;28;01mNone\u001b[39;00m))\n\u001b[0;32m    438\u001b[0m     \u001b[38;5;28;01mreturn\u001b[39;00m response\n",
      "File \u001b[1;32m~\\anaconda3\\lib\\site-packages\\selenium\\webdriver\\remote\\errorhandler.py:247\u001b[0m, in \u001b[0;36mErrorHandler.check_response\u001b[1;34m(self, response)\u001b[0m\n\u001b[0;32m    245\u001b[0m         alert_text \u001b[38;5;241m=\u001b[39m value[\u001b[38;5;124m'\u001b[39m\u001b[38;5;124malert\u001b[39m\u001b[38;5;124m'\u001b[39m]\u001b[38;5;241m.\u001b[39mget(\u001b[38;5;124m'\u001b[39m\u001b[38;5;124mtext\u001b[39m\u001b[38;5;124m'\u001b[39m)\n\u001b[0;32m    246\u001b[0m     \u001b[38;5;28;01mraise\u001b[39;00m exception_class(message, screen, stacktrace, alert_text)  \u001b[38;5;66;03m# type: ignore[call-arg]  # mypy is not smart enough here\u001b[39;00m\n\u001b[1;32m--> 247\u001b[0m \u001b[38;5;28;01mraise\u001b[39;00m exception_class(message, screen, stacktrace)\n",
      "\u001b[1;31mWebDriverException\u001b[0m: Message: unknown error: cannot determine loading status\nfrom unknown error: unexpected command response\n  (Session info: chrome=103.0.5060.114)\nStacktrace:\nBacktrace:\n\tOrdinal0 [0x002F6463+2188387]\n\tOrdinal0 [0x0028E461+1762401]\n\tOrdinal0 [0x001A3D78+802168]\n\tOrdinal0 [0x00197210+750096]\n\tOrdinal0 [0x0019675A+747354]\n\tOrdinal0 [0x00195D3F+744767]\n\tOrdinal0 [0x00194C28+740392]\n\tOrdinal0 [0x00195228+741928]\n\tOrdinal0 [0x0019F153+782675]\n\tOrdinal0 [0x001A9FBB+827323]\n\tOrdinal0 [0x001AD310+840464]\n\tOrdinal0 [0x001954F6+742646]\n\tOrdinal0 [0x001A9BF3+826355]\n\tOrdinal0 [0x001FCF6D+1167213]\n\tOrdinal0 [0x001EC5F6+1099254]\n\tOrdinal0 [0x001C6BE0+945120]\n\tOrdinal0 [0x001C7AD6+948950]\n\tGetHandleVerifier [0x005971F2+2712546]\n\tGetHandleVerifier [0x0058886D+2652765]\n\tGetHandleVerifier [0x0038002A+520730]\n\tGetHandleVerifier [0x0037EE06+516086]\n\tOrdinal0 [0x0029468B+1787531]\n\tOrdinal0 [0x00298E88+1805960]\n\tOrdinal0 [0x00298F75+1806197]\n\tOrdinal0 [0x002A1DF1+1842673]\n\tBaseThreadInitThunk [0x757FFA29+25]\n\tRtlGetAppContainerNamedObjectPath [0x777A7A9E+286]\n\tRtlGetAppContainerNamedObjectPath [0x777A7A6E+238]\n\t(No symbol) [0x00000000]\n"
     ]
    }
   ],
   "source": [
    "page=2\n",
    "url=[]\n",
    "while page!=69:\n",
    "    url=f'https://www.icasas.mx/venta/habitacionales-casas-mexico-toluca-lerdo-2_5_15_0_760_0/p_{page}'\n",
    "    driver.get(url)\n",
    "    contenido=driver.page_source\n",
    "    soup=bs(contenido)\n",
    "    soup.title\n",
    "    for tarjeta in soup.find_all(\"div\",attrs={\"class\":\"ad-data\"}):\n",
    "        \n",
    "        try:\n",
    "            area=tarjeta.find(\"span\",attrs={\"class\":\"areaBuilt\"})\n",
    "            m2sucio.append(area.text)\n",
    "        except:\n",
    "            m2sucio.append(\"\")\n",
    "        try:    \n",
    "            MN=tarjeta.find(\"div\",attrs={\"class\":\"price\"})\n",
    "            preciosucio.append(MN.text)\n",
    "        except:    \n",
    "            preciosucio.append(\"\")\n",
    "        try:    \n",
    "            calle=tarjeta.find(\"a\",attrs={\"itemprop\":\"url\"})\n",
    "            lugarsucio.append(calle.text)\n",
    "        except:    \n",
    "            lugarsucio.append(\"\")\n",
    "        try:    \n",
    "            hb=tarjeta.find(\"span\",attrs={\"class\":\"rooms\"})\n",
    "            habitacionessucio.append(hb.text)\n",
    "        except:\n",
    "            habitacionessucio.append(\"\")\n",
    "        try:    \n",
    "            bñ=tarjeta.find(\"span\",attrs={\"class\":\"bathrooms\"})\n",
    "            bañossucio.append(bñ.text)\n",
    "        except:\n",
    "            bañossucio.append(\"\") \n",
    "      \n",
    "    page+=1   "
   ]
  },
  {
   "cell_type": "code",
   "execution_count": null,
   "id": "0755e953-c0b2-435b-97b6-f1fdd6a913b7",
   "metadata": {},
   "outputs": [],
   "source": [
    "for MN in preciosucio:\n",
    "    precio.append(MN.replace(\"\\t\",\"\"))"
   ]
  },
  {
   "cell_type": "code",
   "execution_count": null,
   "id": "ca640a14-3b11-4cba-9aaf-6aea09d0345a",
   "metadata": {},
   "outputs": [],
   "source": [
    "casadf=pd.DataFrame({\"Ubicación\":lugarsucio,\"Area\":m2sucio,\"Baños\":bañossucio,\"Habitaciones\":habitacionessucio,\"Precio\":precio})"
   ]
  },
  {
   "cell_type": "code",
   "execution_count": null,
   "id": "cbe6a53d-3513-4fb2-bae6-6255e0cae7e2",
   "metadata": {},
   "outputs": [],
   "source": [
    "casadf.shape"
   ]
  },
  {
   "cell_type": "code",
   "execution_count": null,
   "id": "cbc76c63-1861-45a2-8f9e-3af696d998e3",
   "metadata": {},
   "outputs": [],
   "source": [
    "casadf.head(5)"
   ]
  },
  {
   "cell_type": "code",
   "execution_count": null,
   "id": "f1557065-9140-4922-bcd0-9d84945ac8c8",
   "metadata": {},
   "outputs": [],
   "source": [
    "casadf.to_csv(\"Casa_toluca.csv\")"
   ]
  },
  {
   "cell_type": "code",
   "execution_count": null,
   "id": "3b6a06c4-fcfd-41a7-808b-e8cc799100e0",
   "metadata": {},
   "outputs": [],
   "source": [
    "casadf[\"Precio\"]=casadf[\"Precio\"].str.replace(\"MX\",\"\").str.replace(\"$\",\"\").str.replace(\",\",\"\")"
   ]
  },
  {
   "cell_type": "code",
   "execution_count": null,
   "id": "60c744b1-11a7-4f1f-98af-a1a26f43c7a9",
   "metadata": {},
   "outputs": [],
   "source": [
    "casadf[\"Area\"]=casadf[\"Area\"].str.replace(\"m2\",\"\").str.replace(\",\",\"\")"
   ]
  },
  {
   "cell_type": "code",
   "execution_count": null,
   "id": "bc807984-5f5b-4331-ba28-f1110830ea19",
   "metadata": {},
   "outputs": [],
   "source": [
    "casadf[\"Area\"]=casadf[\"Area\"].astype(float)"
   ]
  },
  {
   "cell_type": "code",
   "execution_count": null,
   "id": "f1d20958-0d41-4264-a8ea-b635b7986af3",
   "metadata": {},
   "outputs": [],
   "source": [
    "casadf.to_csv(\"Casa_toluca.csv\")"
   ]
  },
  {
   "cell_type": "code",
   "execution_count": null,
   "id": "4b12b69d-25ea-4c80-b7be-42bb44b355d8",
   "metadata": {},
   "outputs": [],
   "source": [
    "casadf[\"Area\"]=casadf[\"Area\"].str.replace(\"\",\"0\")"
   ]
  },
  {
   "cell_type": "code",
   "execution_count": null,
   "id": "762f1eaf-bbd6-4ac9-91fc-0720ac703d60",
   "metadata": {},
   "outputs": [],
   "source": [
    "casadf=pd.read_csv(\"Casa_toluca.csv\")"
   ]
  },
  {
   "cell_type": "code",
   "execution_count": null,
   "id": "ec4f0e1f-547c-47ef-9306-4ac597b45394",
   "metadata": {},
   "outputs": [],
   "source": [
    "casadf[\"Precio\"]=casadf[\"Precio\"].str.replace(\"Remate Bancario\",\"\").str.replace(r\"\\([()]*\\)\",\"\")"
   ]
  },
  {
   "cell_type": "code",
   "execution_count": null,
   "id": "74c7a7f6-eca8-452e-a7f0-b2918a306cbc",
   "metadata": {},
   "outputs": [],
   "source": [
    "casadf.to_csv(\"Casa_toluca.csv\")"
   ]
  },
  {
   "cell_type": "code",
   "execution_count": null,
   "id": "b2e13c2a-0c8f-4ace-91ca-d526f8b5ba1c",
   "metadata": {},
   "outputs": [],
   "source": []
  }
 ],
 "metadata": {
  "kernelspec": {
   "display_name": "Python 3 (ipykernel)",
   "language": "python",
   "name": "python3"
  },
  "language_info": {
   "codemirror_mode": {
    "name": "ipython",
    "version": 3
   },
   "file_extension": ".py",
   "mimetype": "text/x-python",
   "name": "python",
   "nbconvert_exporter": "python",
   "pygments_lexer": "ipython3",
   "version": "3.9.12"
  }
 },
 "nbformat": 4,
 "nbformat_minor": 5
}
