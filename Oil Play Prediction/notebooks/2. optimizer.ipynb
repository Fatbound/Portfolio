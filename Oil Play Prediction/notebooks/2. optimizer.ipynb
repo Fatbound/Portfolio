{
 "cells": [
  {
   "cell_type": "code",
   "execution_count": 1,
   "id": "bf924c83-3817-4742-9226-07d65fbc784f",
   "metadata": {},
   "outputs": [],
   "source": [
    "import pandas as pd\n",
    "import numpy as np\n",
    "import matplotlib.pyplot as plt\n",
    "import seaborn as sns\n",
    "from sklearn.ensemble import RandomForestClassifier\n",
    "from sklearn.metrics import classification_report, confusion_matrix\n",
    "from sklearn.model_selection import train_test_split\n",
    "from sklearn.preprocessing import PowerTransformer\n",
    "import warnings\n",
    "warnings.filterwarnings(\"ignore\")\n"
   ]
  },
  {
   "cell_type": "code",
   "execution_count": 2,
   "id": "8dbdb879-0030-42c4-977e-d33edaa5c581",
   "metadata": {},
   "outputs": [],
   "source": [
    "def report(y_true,y_pred):\n",
    "    print(classification_report(y_true,y_pred))\n",
    "def matrix(y_true,y_pred, dataset):\n",
    "    g=confusion_matrix(y_true,y_pred)\n",
    "    ptypes=pd.DataFrame(dataset[\"TARGET\"].value_counts())\n",
    "    sns.heatmap(data=g,xticklabels=ptypes.index.sort_values(),yticklabels=ptypes.index.sort_values(),cbar=False,annot=True,cmap=\"Blues\",fmt=\"g\",linewidths=.5,linecolor=\"black\")\n",
    "    "
   ]
  },
  {
   "cell_type": "code",
   "execution_count": 3,
   "id": "a7fe17f7-11d7-44eb-a3bd-3bc6a11d1f17",
   "metadata": {},
   "outputs": [],
   "source": [
    "data=pd.read_csv(\"E:\\piere\\Documentos\\Portafolio\\Oil Play Prediction\\Data\\processed\\data_ready.csv\")"
   ]
  },
  {
   "cell_type": "code",
   "execution_count": 4,
   "id": "6b19ef44-c385-4d12-859a-6c96a06a65a2",
   "metadata": {},
   "outputs": [],
   "source": [
    "X=data.drop(\"TARGET\",axis=1)\n",
    "y=data[\"TARGET\"]"
   ]
  },
  {
   "cell_type": "code",
   "execution_count": 5,
   "id": "65e937ad-ea76-4f59-98ec-21f5701b47fc",
   "metadata": {},
   "outputs": [],
   "source": [
    "pt=PowerTransformer()\n",
    "X=pt.fit_transform(X)"
   ]
  },
  {
   "cell_type": "code",
   "execution_count": 6,
   "id": "bd45e185-29c0-4b50-b218-793daf3ef6cb",
   "metadata": {},
   "outputs": [],
   "source": [
    "X_train, X_test, y_train , y_test=train_test_split(X, y, test_size=.3, random_state=42)"
   ]
  },
  {
   "cell_type": "code",
   "execution_count": 7,
   "id": "22afdf87-8cb2-481b-8d9b-fa90a5ec2cd3",
   "metadata": {},
   "outputs": [
    {
     "data": {
      "text/plain": [
       "RandomForestClassifier(n_estimators=200)"
      ]
     },
     "execution_count": 7,
     "metadata": {},
     "output_type": "execute_result"
    }
   ],
   "source": [
    "rf=RandomForestClassifier(n_estimators=200)\n",
    "rf.fit(X_train,y_train)"
   ]
  },
  {
   "cell_type": "code",
   "execution_count": 8,
   "id": "645268c9-f6c1-4b83-84b0-aa4e172f0994",
   "metadata": {},
   "outputs": [],
   "source": [
    "y_pred=rf.predict(X_test)"
   ]
  },
  {
   "cell_type": "code",
   "execution_count": 9,
   "id": "6890bf53-2c6e-4fe6-b4ca-5b931fe76a3d",
   "metadata": {},
   "outputs": [
    {
     "name": "stdout",
     "output_type": "stream",
     "text": [
      "              precision    recall  f1-score   support\n",
      "\n",
      "          A1       0.65      0.42      0.51       332\n",
      "         AP1       0.17      0.05      0.07        22\n",
      "          B1       1.00      1.00      1.00         4\n",
      "          F1       0.80      0.61      0.69       571\n",
      "          F2       0.95      0.99      0.97       283\n",
      "          P1       0.83      0.95      0.88      2634\n",
      "          R1       1.00      0.03      0.06        66\n",
      "          S1       1.00      0.12      0.21        52\n",
      "          X1       1.00      0.14      0.25         7\n",
      "          X2       0.73      0.55      0.63        20\n",
      "\n",
      "    accuracy                           0.82      3991\n",
      "   macro avg       0.81      0.49      0.53      3991\n",
      "weighted avg       0.82      0.82      0.80      3991\n",
      "\n"
     ]
    }
   ],
   "source": [
    "report(y_test,y_pred)"
   ]
  },
  {
   "cell_type": "code",
   "execution_count": 10,
   "id": "dfe63795-0c98-48b9-9b95-d740a621aa38",
   "metadata": {},
   "outputs": [
    {
     "data": {
      "image/png": "[encoded data removed]",
      "text/plain": [
       "<Figure size 432x288 with 1 Axes>"
      ]
     },
     "metadata": {
      "needs_background": "light"
     },
     "output_type": "display_data"
    }
   ],
   "source": [
    "matrix(y_test,y_pred,data)"
   ]
  },
  {
   "cell_type": "markdown",
   "id": "fe995e25-ad4f-4bd4-a7b5-4de4ec75b4a3",
   "metadata": {},
   "source": [
    "Como podemos observar, al momento de realizar la predicción con valores normalizados por el método de PowerTransform de Scikit-Learn, solamente aumentamos un .1% mi accuracy. Esto se lo podemos atribuir que tenemos una data Unbalance, por la cantidad de datos de P1 con respecto a los demás, cuestión que buscaremos reducir en el siguiente capítulo."
   ]
  },
  {
   "cell_type": "code",
   "execution_count": 11,
   "id": "a1a5b3eb-668d-4127-a500-b53e635b3bcb",
   "metadata": {},
   "outputs": [],
   "source": [
    "from collections import Counter\n",
    "from sklearn.preprocessing import LabelEncoder"
   ]
  },
  {
   "cell_type": "code",
   "execution_count": 12,
   "id": "31302067-fe57-4344-b0ff-fbab1a368553",
   "metadata": {},
   "outputs": [],
   "source": [
    "y_enconder=LabelEncoder().fit_transform(y)"
   ]
  },
  {
   "cell_type": "code",
   "execution_count": 13,
   "id": "e593d608-ec5e-4b22-bba2-0e7c02f7dd6b",
   "metadata": {},
   "outputs": [],
   "source": [
    "counter=Counter(y_enconder)"
   ]
  },
  {
   "cell_type": "code",
   "execution_count": 14,
   "id": "01be428a-aa5a-4a9a-bd19-df259b1bf589",
   "metadata": {},
   "outputs": [
    {
     "data": {
      "image/png": "[encoded data removed]",
      "text/plain": [
       "<Figure size 576x432 with 1 Axes>"
      ]
     },
     "metadata": {
      "needs_background": "light"
     },
     "output_type": "display_data"
    }
   ],
   "source": [
    "plt.figure(figsize=(8,6))\n",
    "plt.bar(counter.keys(),counter.values())\n",
    "plt.xticks([i for i in range (0,10)])\n",
    "plt.xlabel(\"PLAY_TYPE\")\n",
    "plt.ylabel(\"Count for each class\")\n",
    "plt.show()"
   ]
  },
  {
   "cell_type": "code",
   "execution_count": 15,
   "id": "02e9e2b2-aad0-4ce0-9765-bbcf0edbc88b",
   "metadata": {},
   "outputs": [],
   "source": [
    "from imblearn.over_sampling import SMOTE"
   ]
  },
  {
   "cell_type": "code",
   "execution_count": 16,
   "id": "4f9efd62-9879-4b23-aa95-03dbc7bfcdb4",
   "metadata": {},
   "outputs": [],
   "source": [
    "oversample=SMOTE()\n",
    "X_over , y_over = oversample.fit_resample(X, y_enconder)"
   ]
  },
  {
   "cell_type": "code",
   "execution_count": 17,
   "id": "aaa747ee-186f-4257-9810-a77bf8e89010",
   "metadata": {},
   "outputs": [
    {
     "data": {
      "image/png": "[encoded data removed]",
      "text/plain": [
       "<Figure size 576x432 with 1 Axes>"
      ]
     },
     "metadata": {
      "needs_background": "light"
     },
     "output_type": "display_data"
    }
   ],
   "source": [
    "counter=Counter(y_over)\n",
    "plt.figure(figsize=(8,6))\n",
    "plt.bar(counter.keys(),counter.values())\n",
    "plt.xticks([i for i in range (0,10)])\n",
    "plt.xlabel(\"PLAY_TYPE\")\n",
    "plt.ylabel(\"Count for each class\")\n",
    "plt.show()"
   ]
  },
  {
   "cell_type": "markdown",
   "id": "e661541d-9652-44b8-ba31-65d3019c2619",
   "metadata": {},
   "source": [
    "Como observamos, ya logramos equilibrar las clases mi DataSet mediante la función SMOTE de replicar los datos de mi data."
   ]
  },
  {
   "cell_type": "code",
   "execution_count": 78,
   "id": "0d461766-6473-47a5-bc04-07305bcc8ce4",
   "metadata": {},
   "outputs": [],
   "source": [
    "X_train, X_test, y_train , y_test=train_test_split(X_over, y_over, test_size=.5, random_state=42)\n",
    "rf=RandomForestClassifier(n_estimators=200)\n",
    "rf.fit(X_train,y_train)\n",
    "y_pred=rf.predict(X_test)"
   ]
  },
  {
   "cell_type": "code",
   "execution_count": 79,
   "id": "bd9803af-69c8-461d-917e-4b71bff4ef2a",
   "metadata": {},
   "outputs": [
    {
     "name": "stdout",
     "output_type": "stream",
     "text": [
      "              precision    recall  f1-score   support\n",
      "\n",
      "           0       0.90      0.93      0.91      4311\n",
      "           1       0.99      1.00      0.99      4326\n",
      "           2       1.00      1.00      1.00      4496\n",
      "           3       0.89      0.94      0.91      4373\n",
      "           4       1.00      1.00      1.00      4260\n",
      "           5       0.87      0.73      0.79      4298\n",
      "           6       0.95      0.99      0.97      4367\n",
      "           7       0.97      1.00      0.98      4350\n",
      "           8       1.00      1.00      1.00      4285\n",
      "           9       1.00      1.00      1.00      4354\n",
      "\n",
      "    accuracy                           0.96     43420\n",
      "   macro avg       0.96      0.96      0.96     43420\n",
      "weighted avg       0.96      0.96      0.96     43420\n",
      "\n"
     ]
    }
   ],
   "source": [
    "report(y_test,y_pred)"
   ]
  },
  {
   "cell_type": "code",
   "execution_count": 80,
   "id": "981a0f45-28d7-48c1-a193-1bf4489ec094",
   "metadata": {},
   "outputs": [
    {
     "data": {
      "image/png": "[encoded data removed]",
      "text/plain": [
       "<Figure size 432x288 with 1 Axes>"
      ]
     },
     "metadata": {
      "needs_background": "light"
     },
     "output_type": "display_data"
    }
   ],
   "source": [
    "matrix(y_test,y_pred,data)"
   ]
  },
  {
   "cell_type": "markdown",
   "id": "772225a7-398e-4ff9-ad90-a9256eef5aec",
   "metadata": {},
   "source": [
    "Como evidenciamos obtuvimos un muy resultado. Sin embargo, ahora analizaremos si tenemos overtfitting en mi modelo"
   ]
  },
  {
   "cell_type": "code",
   "execution_count": 81,
   "id": "9174507f-a891-4105-aacc-8fdf1844b5d6",
   "metadata": {},
   "outputs": [],
   "source": [
    "y_pred_trein=rf.predict(X_train)"
   ]
  },
  {
   "cell_type": "code",
   "execution_count": 82,
   "id": "69813f83-6c38-4e79-900a-d9c77c8a5038",
   "metadata": {},
   "outputs": [
    {
     "name": "stdout",
     "output_type": "stream",
     "text": [
      "              precision    recall  f1-score   support\n",
      "\n",
      "           0       1.00      1.00      1.00      4373\n",
      "           1       1.00      1.00      1.00      4358\n",
      "           2       1.00      1.00      1.00      4188\n",
      "           3       1.00      1.00      1.00      4311\n",
      "           4       1.00      1.00      1.00      4424\n",
      "           5       1.00      1.00      1.00      4386\n",
      "           6       1.00      1.00      1.00      4317\n",
      "           7       1.00      1.00      1.00      4334\n",
      "           8       1.00      1.00      1.00      4399\n",
      "           9       1.00      1.00      1.00      4330\n",
      "\n",
      "    accuracy                           1.00     43420\n",
      "   macro avg       1.00      1.00      1.00     43420\n",
      "weighted avg       1.00      1.00      1.00     43420\n",
      "\n"
     ]
    }
   ],
   "source": [
    "report(y_train,y_pred_trein)"
   ]
  },
  {
   "cell_type": "code",
   "execution_count": 83,
   "id": "60eb5899-4ae5-40c1-ad32-71850d482625",
   "metadata": {},
   "outputs": [
    {
     "data": {
      "image/png": "[encoded data removed]",
      "text/plain": [
       "<Figure size 432x288 with 1 Axes>"
      ]
     },
     "metadata": {
      "needs_background": "light"
     },
     "output_type": "display_data"
    }
   ],
   "source": [
    "matrix(y_train, y_pred_trein, data)"
   ]
  },
  {
   "cell_type": "markdown",
   "id": "b7f3809c-5a07-4d5c-b7ed-cfd02a49ea49",
   "metadata": {},
   "source": [
    "Puedo evaluar mi modelo con los datos originales para ver que valores me arrojan"
   ]
  }
 ],
 "metadata": {
  "kernelspec": {
   "display_name": "Python 3 (ipykernel)",
   "language": "python",
   "name": "python3"
  },
  "language_info": {
   "codemirror_mode": {
    "name": "ipython",
    "version": 3
   },
   "file_extension": ".py",
   "mimetype": "text/x-python",
   "name": "python",
   "nbconvert_exporter": "python",
   "pygments_lexer": "ipython3",
   "version": "3.9.12"
  }
 },
 "nbformat": 4,
 "nbformat_minor": 5
}
