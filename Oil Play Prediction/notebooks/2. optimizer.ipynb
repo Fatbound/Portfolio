{
 "cells": [
  {
   "cell_type": "code",
   "execution_count": 11,
   "id": "bf924c83-3817-4742-9226-07d65fbc784f",
   "metadata": {},
   "outputs": [],
   "source": [
    "import pandas as pd\n",
    "import numpy as np\n",
    "import matplotlib.pyplot as plt\n",
    "import seaborn as sns\n",
    "from sklearn.ensemble import RandomForestClassifier\n",
    "from sklearn.metrics import classification_report, confusion_matrix\n",
    "from sklearn.model_selection import train_test_split\n",
    "from sklearn.preprocessing import PowerTransformer\n",
    "import warnings\n",
    "warnings.filterwarnings(\"ignore\")\n"
   ]
  },
  {
   "cell_type": "code",
   "execution_count": 13,
   "id": "8dbdb879-0030-42c4-977e-d33edaa5c581",
   "metadata": {},
   "outputs": [],
   "source": [
    "def report(y_true,y_pred):\n",
    "    print(classification_report(y_true,y_pred))\n",
    "def matrix(y_true,y_pred):\n",
    "    g=confusion_matrix(y_true,y_pred)\n",
    "    sns.heatmap(data=g,xticklabels=Ptypes_value.index.sort_values(),yticklabels=Ptypes_value.index.sort_values(),cbar=False,annot=True,cmap=\"Blues\",fmt=\"g\",linewidths=.5,linecolor=\"black\")\n",
    "    "
   ]
  },
  {
   "cell_type": "code",
   "execution_count": 12,
   "id": "a7fe17f7-11d7-44eb-a3bd-3bc6a11d1f17",
   "metadata": {},
   "outputs": [],
   "source": [
    "data=pd.read_csv(\"E:\\piere\\Documentos\\Portafolio\\Oil Play Prediction\\Data\\processed\\data_ready.csv\")"
   ]
  },
  {
   "cell_type": "code",
   "execution_count": 22,
   "id": "6b19ef44-c385-4d12-859a-6c96a06a65a2",
   "metadata": {},
   "outputs": [],
   "source": [
    "X=data.drop(\"TARGET\",axis=1)\n",
    "y=data[\"TARGET\"]"
   ]
  },
  {
   "cell_type": "code",
   "execution_count": 23,
   "id": "65e937ad-ea76-4f59-98ec-21f5701b47fc",
   "metadata": {},
   "outputs": [],
   "source": [
    "pt=PowerTransformer()\n",
    "X=pt.fit_transform(X)"
   ]
  },
  {
   "cell_type": "code",
   "execution_count": 24,
   "id": "bd45e185-29c0-4b50-b218-793daf3ef6cb",
   "metadata": {},
   "outputs": [],
   "source": [
    "X_train, X_test, y_train , y_test=train_test_split(X, y, test_size=.3, random_state=42)"
   ]
  },
  {
   "cell_type": "code",
   "execution_count": 25,
   "id": "22afdf87-8cb2-481b-8d9b-fa90a5ec2cd3",
   "metadata": {},
   "outputs": [
    {
     "data": {
      "text/plain": [
       "RandomForestClassifier(n_estimators=200)"
      ]
     },
     "execution_count": 25,
     "metadata": {},
     "output_type": "execute_result"
    }
   ],
   "source": [
    "rf=RandomForestClassifier(n_estimators=200)\n",
    "rf.fit(X_train,y_train)"
   ]
  },
  {
   "cell_type": "code",
   "execution_count": 27,
   "id": "645268c9-f6c1-4b83-84b0-aa4e172f0994",
   "metadata": {},
   "outputs": [],
   "source": [
    "y_pred=rf.predict(X_test)"
   ]
  },
  {
   "cell_type": "code",
   "execution_count": 28,
   "id": "6890bf53-2c6e-4fe6-b4ca-5b931fe76a3d",
   "metadata": {},
   "outputs": [
    {
     "name": "stdout",
     "output_type": "stream",
     "text": [
      "              precision    recall  f1-score   support\n",
      "\n",
      "          A1       0.73      0.49      0.58       332\n",
      "         AP1       0.67      0.27      0.39        22\n",
      "          B1       1.00      1.00      1.00         4\n",
      "          F1       0.82      0.63      0.71       571\n",
      "          F2       0.95      0.99      0.97       283\n",
      "          P1       0.84      0.95      0.89      2634\n",
      "          R1       1.00      0.05      0.09        66\n",
      "          S1       0.95      0.38      0.55        52\n",
      "          X1       1.00      0.14      0.25         7\n",
      "          X2       0.79      0.55      0.65        20\n",
      "\n",
      "    accuracy                           0.84      3991\n",
      "   macro avg       0.87      0.55      0.61      3991\n",
      "weighted avg       0.84      0.84      0.82      3991\n",
      "\n"
     ]
    }
   ],
   "source": [
    "report(y_test,y_pred)"
   ]
  },
  {
   "cell_type": "code",
   "execution_count": 29,
   "id": "dfe63795-0c98-48b9-9b95-d740a621aa38",
   "metadata": {},
   "outputs": [
    {
     "data": {
      "image/png": "[encoded data removed]",
      "text/plain": [
       "<Figure size 432x288 with 1 Axes>"
      ]
     },
     "metadata": {},
     "output_type": "display_data"
    }
   ],
   "source": [
    "matrix(y_test,y_pred)"
   ]
  }
 ],
 "metadata": {
  "kernelspec": {
   "display_name": "Python 3 (ipykernel)",
   "language": "python",
   "name": "python3"
  },
  "language_info": {
   "codemirror_mode": {
    "name": "ipython",
    "version": 3
   },
   "file_extension": ".py",
   "mimetype": "text/x-python",
   "name": "python",
   "nbconvert_exporter": "python",
   "pygments_lexer": "ipython3",
   "version": "3.9.12"
  }
 },
 "nbformat": 4,
 "nbformat_minor": 5
}
