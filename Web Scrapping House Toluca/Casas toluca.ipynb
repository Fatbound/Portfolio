{
 "cells": [
  {
   "cell_type": "markdown",
   "id": "4af18a1a-3849-4209-8d59-30cbed3150e7",
   "metadata": {},
   "source": [
    "### Casas en Toluca con mi novia hermosa"
   ]
  },
  {
   "cell_type": "markdown",
   "id": "7f8da956-0547-4e07-a07b-e9e0fa5e83a5",
   "metadata": {},
   "source": [
    "primero vamos a importar las librerias necesarias para extraer de internet"
   ]
  },
  {
   "cell_type": "code",
   "execution_count": 3,
   "id": "118cbd6d-4350-42a0-9ea4-1dddc1fc79c0",
   "metadata": {},
   "outputs": [],
   "source": [
    "from selenium import webdriver\n",
    "from bs4 import BeautifulSoup as bs\n",
    "import pandas as pd\n",
    "import numpy as np\n",
    "import selenium.common.exceptions\n",
    "%matplotlib inline"
   ]
  },
  {
   "cell_type": "markdown",
   "id": "a7235be4-32c4-4ca8-a40b-3c0a7e321963",
   "metadata": {},
   "source": [
    "#### Ejecutamos el programa que nos permitira extraer datos de internet "
   ]
  },
  {
   "cell_type": "code",
   "execution_count": 6,
   "id": "ea0ee7f8-6262-491e-9b79-21a96ec65c21",
   "metadata": {},
   "outputs": [],
   "source": [
    "driver=webdriver.Chrome(\"E:\\piere\\Desktop\\A2 Cursos\\Python\\chromedriver.exe\")"
   ]
  },
  {
   "cell_type": "markdown",
   "id": "ddecc52f-6bfb-4188-967b-ea2e524e6a7a",
   "metadata": {},
   "source": [
    " armamos las listas para saber que datos queremos extraer"
   ]
  },
  {
   "cell_type": "code",
   "execution_count": 7,
   "id": "7371be6e-0c26-48bd-9868-d2f69fb461d3",
   "metadata": {},
   "outputs": [],
   "source": [
    "preciosucio=[]\n",
    "lugarsucio=[]\n",
    "m2sucio=[]\n",
    "habitacionessucio=[]\n",
    "bañossucio=[]"
   ]
  },
  {
   "cell_type": "markdown",
   "id": "bc294d2d-fb8f-412a-b6d4-ae8a815a6a35",
   "metadata": {},
   "source": [
    "ahora creamos las listas vacias para trabajar "
   ]
  },
  {
   "cell_type": "code",
   "execution_count": 10,
   "id": "d373e34f-059a-42d4-a0a6-421fbc02d289",
   "metadata": {},
   "outputs": [],
   "source": [
    "precio=[]\n",
    "lugar=[]\n",
    "m2=[]\n",
    "habitaciones=[]\n",
    "baños=[]"
   ]
  },
  {
   "cell_type": "code",
   "execution_count": 18,
   "id": "3a4207e3-4b5d-4ff8-b416-85b938410170",
   "metadata": {},
   "outputs": [],
   "source": [
    "page=2\n",
    "url=[]\n",
    "while page!=69:\n",
    "    url=f'https://www.icasas.mx/venta/habitacionales-casas-mexico-toluca-lerdo-2_5_15_0_760_0/p_{page}'\n",
    "    driver.get(url)\n",
    "    contenido=driver.page_source\n",
    "    soup=bs(contenido)\n",
    "    soup.title\n",
    "    for tarjeta in soup.find_all(\"div\",attrs={\"class\":\"ad-data\"}):\n",
    "        \n",
    "        try:\n",
    "            area=tarjeta.find(\"span\",attrs={\"class\":\"areaBuilt\"})\n",
    "            m2sucio.append(area.text)\n",
    "        except:\n",
    "            m2sucio.append(\"\")\n",
    "        try:    \n",
    "            MN=tarjeta.find(\"div\",attrs={\"class\":\"price\"})\n",
    "            preciosucio.append(MN.text)\n",
    "        except:    \n",
    "            preciosucio.append(\"\")\n",
    "        try:    \n",
    "            calle=tarjeta.find(\"a\",attrs={\"itemprop\":\"url\"})\n",
    "            lugarsucio.append(calle.text)\n",
    "        except:    \n",
    "            lugarsucio.append(\"\")\n",
    "        try:    \n",
    "            hb=tarjeta.find(\"span\",attrs={\"class\":\"rooms\"})\n",
    "            habitacionessucio.append(hb.text)\n",
    "        except:\n",
    "            habitacionessucio.append(\"\")\n",
    "        try:    \n",
    "            bñ=tarjeta.find(\"span\",attrs={\"class\":\"bathrooms\"})\n",
    "            bañossucio.append(bñ.text)\n",
    "        except:\n",
    "            bañossucio.append(\"\")   \n",
    "    page+=1   "
   ]
  },
  {
   "cell_type": "code",
   "execution_count": 20,
   "id": "0755e953-c0b2-435b-97b6-f1fdd6a913b7",
   "metadata": {},
   "outputs": [],
   "source": [
    "for MN in preciosucio:\n",
    "    precio.append(MN.replace(\"\\t\",\"\"))"
   ]
  },
  {
   "cell_type": "code",
   "execution_count": 21,
   "id": "ca640a14-3b11-4cba-9aaf-6aea09d0345a",
   "metadata": {},
   "outputs": [],
   "source": [
    "casadf=pd.DataFrame({\"Ubicación\":lugarsucio,\"Area\":m2sucio,\"Baños\":bañossucio,\"Habitaciones\":habitacionessucio,\"Precio\":precio})"
   ]
  },
  {
   "cell_type": "code",
   "execution_count": 22,
   "id": "cbe6a53d-3513-4fb2-bae6-6255e0cae7e2",
   "metadata": {},
   "outputs": [
    {
     "data": {
      "text/plain": [
       "(2004, 5)"
      ]
     },
     "execution_count": 22,
     "metadata": {},
     "output_type": "execute_result"
    }
   ],
   "source": [
    "casadf.shape"
   ]
  },
  {
   "cell_type": "code",
   "execution_count": 24,
   "id": "cbc76c63-1861-45a2-8f9e-3af696d998e3",
   "metadata": {},
   "outputs": [
    {
     "data": {
      "text/html": [
       "<div>\n",
       "<style scoped>\n",
       "    .dataframe tbody tr th:only-of-type {\n",
       "        vertical-align: middle;\n",
       "    }\n",
       "\n",
       "    .dataframe tbody tr th {\n",
       "        vertical-align: top;\n",
       "    }\n",
       "\n",
       "    .dataframe thead th {\n",
       "        text-align: right;\n",
       "    }\n",
       "</style>\n",
       "<table border=\"1\" class=\"dataframe\">\n",
       "  <thead>\n",
       "    <tr style=\"text-align: right;\">\n",
       "      <th></th>\n",
       "      <th>Ubicación</th>\n",
       "      <th>Area</th>\n",
       "      <th>Baños</th>\n",
       "      <th>Habitaciones</th>\n",
       "      <th>Precio</th>\n",
       "    </tr>\n",
       "  </thead>\n",
       "  <tbody>\n",
       "    <tr>\n",
       "      <th>0</th>\n",
       "      <td>Casa en Venta Los Serrados\\n, Toluca De Lerdo,...</td>\n",
       "      <td>105m2</td>\n",
       "      <td>2</td>\n",
       "      <td>3</td>\n",
       "      <td>2,600,000 MX$</td>\n",
       "    </tr>\n",
       "    <tr>\n",
       "      <th>1</th>\n",
       "      <td>Casa en Venta Tierra Y Libertad #114\\n, Toluca...</td>\n",
       "      <td>115m2</td>\n",
       "      <td>2</td>\n",
       "      <td>3</td>\n",
       "      <td>1,016,000 MX$</td>\n",
       "    </tr>\n",
       "    <tr>\n",
       "      <th>2</th>\n",
       "      <td>Casa en Venta Toluca De Lerdo, México</td>\n",
       "      <td>700m2</td>\n",
       "      <td>3</td>\n",
       "      <td>3</td>\n",
       "      <td>6,500,000 MX$</td>\n",
       "    </tr>\n",
       "    <tr>\n",
       "      <th>3</th>\n",
       "      <td>Casa en Venta Granjas, Toluca De Lerdo</td>\n",
       "      <td>390m2</td>\n",
       "      <td>3</td>\n",
       "      <td>4</td>\n",
       "      <td>5,500,000 MX$</td>\n",
       "    </tr>\n",
       "    <tr>\n",
       "      <th>4</th>\n",
       "      <td>Casa en Venta Toluca De Lerdo, México</td>\n",
       "      <td>300m2</td>\n",
       "      <td>4</td>\n",
       "      <td>3</td>\n",
       "      <td>4,300,000 MX$</td>\n",
       "    </tr>\n",
       "  </tbody>\n",
       "</table>\n",
       "</div>"
      ],
      "text/plain": [
       "                                           Ubicación   Area Baños  \\\n",
       "0  Casa en Venta Los Serrados\\n, Toluca De Lerdo,...  105m2     2   \n",
       "1  Casa en Venta Tierra Y Libertad #114\\n, Toluca...  115m2     2   \n",
       "2              Casa en Venta Toluca De Lerdo, México  700m2     3   \n",
       "3             Casa en Venta Granjas, Toluca De Lerdo  390m2     3   \n",
       "4              Casa en Venta Toluca De Lerdo, México  300m2     4   \n",
       "\n",
       "  Habitaciones         Precio  \n",
       "0            3  2,600,000 MX$  \n",
       "1            3  1,016,000 MX$  \n",
       "2            3  6,500,000 MX$  \n",
       "3            4  5,500,000 MX$  \n",
       "4            3  4,300,000 MX$  "
      ]
     },
     "execution_count": 24,
     "metadata": {},
     "output_type": "execute_result"
    }
   ],
   "source": [
    "casadf.head(5)"
   ]
  },
  {
   "cell_type": "code",
   "execution_count": 26,
   "id": "f1557065-9140-4922-bcd0-9d84945ac8c8",
   "metadata": {},
   "outputs": [],
   "source": [
    "casadf.to_csv(\"Casa_toluca.csv\")"
   ]
  },
  {
   "cell_type": "code",
   "execution_count": 34,
   "id": "3b6a06c4-fcfd-41a7-808b-e8cc799100e0",
   "metadata": {},
   "outputs": [
    {
     "name": "stderr",
     "output_type": "stream",
     "text": [
      "C:\\Users\\piere\\AppData\\Local\\Temp/ipykernel_14720/2268213299.py:1: FutureWarning: The default value of regex will change from True to False in a future version. In addition, single character regular expressions will *not* be treated as literal strings when regex=True.\n",
      "  casadf[\"Precio\"]=casadf[\"Precio\"].str.replace(\"MX\",\"\").str.replace(\"$\",\"\").str.replace(\",\",\"\")\n"
     ]
    }
   ],
   "source": [
    "casadf[\"Precio\"]=casadf[\"Precio\"].str.replace(\"MX\",\"\").str.replace(\"$\",\"\").str.replace(\",\",\"\")"
   ]
  },
  {
   "cell_type": "code",
   "execution_count": 45,
   "id": "60c744b1-11a7-4f1f-98af-a1a26f43c7a9",
   "metadata": {},
   "outputs": [],
   "source": [
    "casadf[\"Area\"]=casadf[\"Area\"].str.replace(\"m2\",\"\").str.replace(\",\",\"\")"
   ]
  },
  {
   "cell_type": "code",
   "execution_count": 46,
   "id": "bc807984-5f5b-4331-ba28-f1110830ea19",
   "metadata": {},
   "outputs": [
    {
     "ename": "ValueError",
     "evalue": "could not convert string to float: ''",
     "output_type": "error",
     "traceback": [
      "\u001b[1;31m---------------------------------------------------------------------------\u001b[0m",
      "\u001b[1;31mValueError\u001b[0m                                Traceback (most recent call last)",
      "\u001b[1;32m~\\AppData\\Local\\Temp/ipykernel_14720/294950808.py\u001b[0m in \u001b[0;36m<module>\u001b[1;34m\u001b[0m\n\u001b[1;32m----> 1\u001b[1;33m \u001b[0mcasadf\u001b[0m\u001b[1;33m[\u001b[0m\u001b[1;34m\"Area\"\u001b[0m\u001b[1;33m]\u001b[0m\u001b[1;33m=\u001b[0m\u001b[0mcasadf\u001b[0m\u001b[1;33m[\u001b[0m\u001b[1;34m\"Area\"\u001b[0m\u001b[1;33m]\u001b[0m\u001b[1;33m.\u001b[0m\u001b[0mastype\u001b[0m\u001b[1;33m(\u001b[0m\u001b[0mfloat\u001b[0m\u001b[1;33m)\u001b[0m\u001b[1;33m\u001b[0m\u001b[1;33m\u001b[0m\u001b[0m\n\u001b[0m",
      "\u001b[1;32m~\\anaconda3\\lib\\site-packages\\pandas\\core\\generic.py\u001b[0m in \u001b[0;36mastype\u001b[1;34m(self, dtype, copy, errors)\u001b[0m\n\u001b[0;32m   5813\u001b[0m         \u001b[1;32melse\u001b[0m\u001b[1;33m:\u001b[0m\u001b[1;33m\u001b[0m\u001b[1;33m\u001b[0m\u001b[0m\n\u001b[0;32m   5814\u001b[0m             \u001b[1;31m# else, only a single dtype is given\u001b[0m\u001b[1;33m\u001b[0m\u001b[1;33m\u001b[0m\u001b[0m\n\u001b[1;32m-> 5815\u001b[1;33m             \u001b[0mnew_data\u001b[0m \u001b[1;33m=\u001b[0m \u001b[0mself\u001b[0m\u001b[1;33m.\u001b[0m\u001b[0m_mgr\u001b[0m\u001b[1;33m.\u001b[0m\u001b[0mastype\u001b[0m\u001b[1;33m(\u001b[0m\u001b[0mdtype\u001b[0m\u001b[1;33m=\u001b[0m\u001b[0mdtype\u001b[0m\u001b[1;33m,\u001b[0m \u001b[0mcopy\u001b[0m\u001b[1;33m=\u001b[0m\u001b[0mcopy\u001b[0m\u001b[1;33m,\u001b[0m \u001b[0merrors\u001b[0m\u001b[1;33m=\u001b[0m\u001b[0merrors\u001b[0m\u001b[1;33m)\u001b[0m\u001b[1;33m\u001b[0m\u001b[1;33m\u001b[0m\u001b[0m\n\u001b[0m\u001b[0;32m   5816\u001b[0m             \u001b[1;32mreturn\u001b[0m \u001b[0mself\u001b[0m\u001b[1;33m.\u001b[0m\u001b[0m_constructor\u001b[0m\u001b[1;33m(\u001b[0m\u001b[0mnew_data\u001b[0m\u001b[1;33m)\u001b[0m\u001b[1;33m.\u001b[0m\u001b[0m__finalize__\u001b[0m\u001b[1;33m(\u001b[0m\u001b[0mself\u001b[0m\u001b[1;33m,\u001b[0m \u001b[0mmethod\u001b[0m\u001b[1;33m=\u001b[0m\u001b[1;34m\"astype\"\u001b[0m\u001b[1;33m)\u001b[0m\u001b[1;33m\u001b[0m\u001b[1;33m\u001b[0m\u001b[0m\n\u001b[0;32m   5817\u001b[0m \u001b[1;33m\u001b[0m\u001b[0m\n",
      "\u001b[1;32m~\\anaconda3\\lib\\site-packages\\pandas\\core\\internals\\managers.py\u001b[0m in \u001b[0;36mastype\u001b[1;34m(self, dtype, copy, errors)\u001b[0m\n\u001b[0;32m    416\u001b[0m \u001b[1;33m\u001b[0m\u001b[0m\n\u001b[0;32m    417\u001b[0m     \u001b[1;32mdef\u001b[0m \u001b[0mastype\u001b[0m\u001b[1;33m(\u001b[0m\u001b[0mself\u001b[0m\u001b[1;33m:\u001b[0m \u001b[0mT\u001b[0m\u001b[1;33m,\u001b[0m \u001b[0mdtype\u001b[0m\u001b[1;33m,\u001b[0m \u001b[0mcopy\u001b[0m\u001b[1;33m:\u001b[0m \u001b[0mbool\u001b[0m \u001b[1;33m=\u001b[0m \u001b[1;32mFalse\u001b[0m\u001b[1;33m,\u001b[0m \u001b[0merrors\u001b[0m\u001b[1;33m:\u001b[0m \u001b[0mstr\u001b[0m \u001b[1;33m=\u001b[0m \u001b[1;34m\"raise\"\u001b[0m\u001b[1;33m)\u001b[0m \u001b[1;33m->\u001b[0m \u001b[0mT\u001b[0m\u001b[1;33m:\u001b[0m\u001b[1;33m\u001b[0m\u001b[1;33m\u001b[0m\u001b[0m\n\u001b[1;32m--> 418\u001b[1;33m         \u001b[1;32mreturn\u001b[0m \u001b[0mself\u001b[0m\u001b[1;33m.\u001b[0m\u001b[0mapply\u001b[0m\u001b[1;33m(\u001b[0m\u001b[1;34m\"astype\"\u001b[0m\u001b[1;33m,\u001b[0m \u001b[0mdtype\u001b[0m\u001b[1;33m=\u001b[0m\u001b[0mdtype\u001b[0m\u001b[1;33m,\u001b[0m \u001b[0mcopy\u001b[0m\u001b[1;33m=\u001b[0m\u001b[0mcopy\u001b[0m\u001b[1;33m,\u001b[0m \u001b[0merrors\u001b[0m\u001b[1;33m=\u001b[0m\u001b[0merrors\u001b[0m\u001b[1;33m)\u001b[0m\u001b[1;33m\u001b[0m\u001b[1;33m\u001b[0m\u001b[0m\n\u001b[0m\u001b[0;32m    419\u001b[0m \u001b[1;33m\u001b[0m\u001b[0m\n\u001b[0;32m    420\u001b[0m     def convert(\n",
      "\u001b[1;32m~\\anaconda3\\lib\\site-packages\\pandas\\core\\internals\\managers.py\u001b[0m in \u001b[0;36mapply\u001b[1;34m(self, f, align_keys, ignore_failures, **kwargs)\u001b[0m\n\u001b[0;32m    325\u001b[0m                     \u001b[0mapplied\u001b[0m \u001b[1;33m=\u001b[0m \u001b[0mb\u001b[0m\u001b[1;33m.\u001b[0m\u001b[0mapply\u001b[0m\u001b[1;33m(\u001b[0m\u001b[0mf\u001b[0m\u001b[1;33m,\u001b[0m \u001b[1;33m**\u001b[0m\u001b[0mkwargs\u001b[0m\u001b[1;33m)\u001b[0m\u001b[1;33m\u001b[0m\u001b[1;33m\u001b[0m\u001b[0m\n\u001b[0;32m    326\u001b[0m                 \u001b[1;32melse\u001b[0m\u001b[1;33m:\u001b[0m\u001b[1;33m\u001b[0m\u001b[1;33m\u001b[0m\u001b[0m\n\u001b[1;32m--> 327\u001b[1;33m                     \u001b[0mapplied\u001b[0m \u001b[1;33m=\u001b[0m \u001b[0mgetattr\u001b[0m\u001b[1;33m(\u001b[0m\u001b[0mb\u001b[0m\u001b[1;33m,\u001b[0m \u001b[0mf\u001b[0m\u001b[1;33m)\u001b[0m\u001b[1;33m(\u001b[0m\u001b[1;33m**\u001b[0m\u001b[0mkwargs\u001b[0m\u001b[1;33m)\u001b[0m\u001b[1;33m\u001b[0m\u001b[1;33m\u001b[0m\u001b[0m\n\u001b[0m\u001b[0;32m    328\u001b[0m             \u001b[1;32mexcept\u001b[0m \u001b[1;33m(\u001b[0m\u001b[0mTypeError\u001b[0m\u001b[1;33m,\u001b[0m \u001b[0mNotImplementedError\u001b[0m\u001b[1;33m)\u001b[0m\u001b[1;33m:\u001b[0m\u001b[1;33m\u001b[0m\u001b[1;33m\u001b[0m\u001b[0m\n\u001b[0;32m    329\u001b[0m                 \u001b[1;32mif\u001b[0m \u001b[1;32mnot\u001b[0m \u001b[0mignore_failures\u001b[0m\u001b[1;33m:\u001b[0m\u001b[1;33m\u001b[0m\u001b[1;33m\u001b[0m\u001b[0m\n",
      "\u001b[1;32m~\\anaconda3\\lib\\site-packages\\pandas\\core\\internals\\blocks.py\u001b[0m in \u001b[0;36mastype\u001b[1;34m(self, dtype, copy, errors)\u001b[0m\n\u001b[0;32m    589\u001b[0m         \u001b[0mvalues\u001b[0m \u001b[1;33m=\u001b[0m \u001b[0mself\u001b[0m\u001b[1;33m.\u001b[0m\u001b[0mvalues\u001b[0m\u001b[1;33m\u001b[0m\u001b[1;33m\u001b[0m\u001b[0m\n\u001b[0;32m    590\u001b[0m \u001b[1;33m\u001b[0m\u001b[0m\n\u001b[1;32m--> 591\u001b[1;33m         \u001b[0mnew_values\u001b[0m \u001b[1;33m=\u001b[0m \u001b[0mastype_array_safe\u001b[0m\u001b[1;33m(\u001b[0m\u001b[0mvalues\u001b[0m\u001b[1;33m,\u001b[0m \u001b[0mdtype\u001b[0m\u001b[1;33m,\u001b[0m \u001b[0mcopy\u001b[0m\u001b[1;33m=\u001b[0m\u001b[0mcopy\u001b[0m\u001b[1;33m,\u001b[0m \u001b[0merrors\u001b[0m\u001b[1;33m=\u001b[0m\u001b[0merrors\u001b[0m\u001b[1;33m)\u001b[0m\u001b[1;33m\u001b[0m\u001b[1;33m\u001b[0m\u001b[0m\n\u001b[0m\u001b[0;32m    592\u001b[0m \u001b[1;33m\u001b[0m\u001b[0m\n\u001b[0;32m    593\u001b[0m         \u001b[0mnew_values\u001b[0m \u001b[1;33m=\u001b[0m \u001b[0mmaybe_coerce_values\u001b[0m\u001b[1;33m(\u001b[0m\u001b[0mnew_values\u001b[0m\u001b[1;33m)\u001b[0m\u001b[1;33m\u001b[0m\u001b[1;33m\u001b[0m\u001b[0m\n",
      "\u001b[1;32m~\\anaconda3\\lib\\site-packages\\pandas\\core\\dtypes\\cast.py\u001b[0m in \u001b[0;36mastype_array_safe\u001b[1;34m(values, dtype, copy, errors)\u001b[0m\n\u001b[0;32m   1307\u001b[0m \u001b[1;33m\u001b[0m\u001b[0m\n\u001b[0;32m   1308\u001b[0m     \u001b[1;32mtry\u001b[0m\u001b[1;33m:\u001b[0m\u001b[1;33m\u001b[0m\u001b[1;33m\u001b[0m\u001b[0m\n\u001b[1;32m-> 1309\u001b[1;33m         \u001b[0mnew_values\u001b[0m \u001b[1;33m=\u001b[0m \u001b[0mastype_array\u001b[0m\u001b[1;33m(\u001b[0m\u001b[0mvalues\u001b[0m\u001b[1;33m,\u001b[0m \u001b[0mdtype\u001b[0m\u001b[1;33m,\u001b[0m \u001b[0mcopy\u001b[0m\u001b[1;33m=\u001b[0m\u001b[0mcopy\u001b[0m\u001b[1;33m)\u001b[0m\u001b[1;33m\u001b[0m\u001b[1;33m\u001b[0m\u001b[0m\n\u001b[0m\u001b[0;32m   1310\u001b[0m     \u001b[1;32mexcept\u001b[0m \u001b[1;33m(\u001b[0m\u001b[0mValueError\u001b[0m\u001b[1;33m,\u001b[0m \u001b[0mTypeError\u001b[0m\u001b[1;33m)\u001b[0m\u001b[1;33m:\u001b[0m\u001b[1;33m\u001b[0m\u001b[1;33m\u001b[0m\u001b[0m\n\u001b[0;32m   1311\u001b[0m         \u001b[1;31m# e.g. astype_nansafe can fail on object-dtype of strings\u001b[0m\u001b[1;33m\u001b[0m\u001b[1;33m\u001b[0m\u001b[0m\n",
      "\u001b[1;32m~\\anaconda3\\lib\\site-packages\\pandas\\core\\dtypes\\cast.py\u001b[0m in \u001b[0;36mastype_array\u001b[1;34m(values, dtype, copy)\u001b[0m\n\u001b[0;32m   1255\u001b[0m \u001b[1;33m\u001b[0m\u001b[0m\n\u001b[0;32m   1256\u001b[0m     \u001b[1;32melse\u001b[0m\u001b[1;33m:\u001b[0m\u001b[1;33m\u001b[0m\u001b[1;33m\u001b[0m\u001b[0m\n\u001b[1;32m-> 1257\u001b[1;33m         \u001b[0mvalues\u001b[0m \u001b[1;33m=\u001b[0m \u001b[0mastype_nansafe\u001b[0m\u001b[1;33m(\u001b[0m\u001b[0mvalues\u001b[0m\u001b[1;33m,\u001b[0m \u001b[0mdtype\u001b[0m\u001b[1;33m,\u001b[0m \u001b[0mcopy\u001b[0m\u001b[1;33m=\u001b[0m\u001b[0mcopy\u001b[0m\u001b[1;33m)\u001b[0m\u001b[1;33m\u001b[0m\u001b[1;33m\u001b[0m\u001b[0m\n\u001b[0m\u001b[0;32m   1258\u001b[0m \u001b[1;33m\u001b[0m\u001b[0m\n\u001b[0;32m   1259\u001b[0m     \u001b[1;31m# in pandas we don't store numpy str dtypes, so convert to object\u001b[0m\u001b[1;33m\u001b[0m\u001b[1;33m\u001b[0m\u001b[0m\n",
      "\u001b[1;32m~\\anaconda3\\lib\\site-packages\\pandas\\core\\dtypes\\cast.py\u001b[0m in \u001b[0;36mastype_nansafe\u001b[1;34m(arr, dtype, copy, skipna)\u001b[0m\n\u001b[0;32m   1199\u001b[0m     \u001b[1;32mif\u001b[0m \u001b[0mcopy\u001b[0m \u001b[1;32mor\u001b[0m \u001b[0mis_object_dtype\u001b[0m\u001b[1;33m(\u001b[0m\u001b[0marr\u001b[0m\u001b[1;33m.\u001b[0m\u001b[0mdtype\u001b[0m\u001b[1;33m)\u001b[0m \u001b[1;32mor\u001b[0m \u001b[0mis_object_dtype\u001b[0m\u001b[1;33m(\u001b[0m\u001b[0mdtype\u001b[0m\u001b[1;33m)\u001b[0m\u001b[1;33m:\u001b[0m\u001b[1;33m\u001b[0m\u001b[1;33m\u001b[0m\u001b[0m\n\u001b[0;32m   1200\u001b[0m         \u001b[1;31m# Explicit copy, or required since NumPy can't view from / to object.\u001b[0m\u001b[1;33m\u001b[0m\u001b[1;33m\u001b[0m\u001b[0m\n\u001b[1;32m-> 1201\u001b[1;33m         \u001b[1;32mreturn\u001b[0m \u001b[0marr\u001b[0m\u001b[1;33m.\u001b[0m\u001b[0mastype\u001b[0m\u001b[1;33m(\u001b[0m\u001b[0mdtype\u001b[0m\u001b[1;33m,\u001b[0m \u001b[0mcopy\u001b[0m\u001b[1;33m=\u001b[0m\u001b[1;32mTrue\u001b[0m\u001b[1;33m)\u001b[0m\u001b[1;33m\u001b[0m\u001b[1;33m\u001b[0m\u001b[0m\n\u001b[0m\u001b[0;32m   1202\u001b[0m \u001b[1;33m\u001b[0m\u001b[0m\n\u001b[0;32m   1203\u001b[0m     \u001b[1;32mreturn\u001b[0m \u001b[0marr\u001b[0m\u001b[1;33m.\u001b[0m\u001b[0mastype\u001b[0m\u001b[1;33m(\u001b[0m\u001b[0mdtype\u001b[0m\u001b[1;33m,\u001b[0m \u001b[0mcopy\u001b[0m\u001b[1;33m=\u001b[0m\u001b[0mcopy\u001b[0m\u001b[1;33m)\u001b[0m\u001b[1;33m\u001b[0m\u001b[1;33m\u001b[0m\u001b[0m\n",
      "\u001b[1;31mValueError\u001b[0m: could not convert string to float: ''"
     ]
    }
   ],
   "source": [
    "casadf[\"Area\"]=casadf[\"Area\"].astype(float)"
   ]
  },
  {
   "cell_type": "code",
   "execution_count": 2,
   "id": "f1d20958-0d41-4264-a8ea-b635b7986af3",
   "metadata": {},
   "outputs": [
    {
     "ename": "NameError",
     "evalue": "name 'casadf' is not defined",
     "output_type": "error",
     "traceback": [
      "\u001b[1;31m---------------------------------------------------------------------------\u001b[0m",
      "\u001b[1;31mNameError\u001b[0m                                 Traceback (most recent call last)",
      "\u001b[1;32m~\\AppData\\Local\\Temp/ipykernel_12916/2469080826.py\u001b[0m in \u001b[0;36m<module>\u001b[1;34m\u001b[0m\n\u001b[1;32m----> 1\u001b[1;33m \u001b[0mcasadf\u001b[0m\u001b[1;33m.\u001b[0m\u001b[0mto_csv\u001b[0m\u001b[1;33m(\u001b[0m\u001b[1;34m\"Casa_toluca.csv\"\u001b[0m\u001b[1;33m)\u001b[0m\u001b[1;33m\u001b[0m\u001b[1;33m\u001b[0m\u001b[0m\n\u001b[0m",
      "\u001b[1;31mNameError\u001b[0m: name 'casadf' is not defined"
     ]
    }
   ],
   "source": [
    "casadf.to_csv(\"Casa_toluca.csv\")"
   ]
  },
  {
   "cell_type": "code",
   "execution_count": 70,
   "id": "4b12b69d-25ea-4c80-b7be-42bb44b355d8",
   "metadata": {},
   "outputs": [
    {
     "data": {
      "text/plain": [
       "0       000100000005000\n",
       "1       000100010005000\n",
       "2       000700000000000\n",
       "3       000300090000000\n",
       "4       000300000000000\n",
       "             ...       \n",
       "1999    000100090000000\n",
       "2000        00090002000\n",
       "2001        00060006000\n",
       "2002        00040002000\n",
       "2003                000\n",
       "Name: Area, Length: 2004, dtype: object"
      ]
     },
     "execution_count": 70,
     "metadata": {},
     "output_type": "execute_result"
    }
   ],
   "source": [
    "casadf[\"Area\"]=casadf[\"Area\"].str.replace(\"\",\"0\")"
   ]
  },
  {
   "cell_type": "code",
   "execution_count": 5,
   "id": "762f1eaf-bbd6-4ac9-91fc-0720ac703d60",
   "metadata": {},
   "outputs": [],
   "source": [
    "casadf=pd.read_csv(\"Casa_toluca.csv\")"
   ]
  },
  {
   "cell_type": "code",
   "execution_count": 22,
   "id": "ec4f0e1f-547c-47ef-9306-4ac597b45394",
   "metadata": {},
   "outputs": [
    {
     "name": "stderr",
     "output_type": "stream",
     "text": [
      "C:\\Users\\piere\\AppData\\Local\\Temp/ipykernel_12916/1971946639.py:1: FutureWarning: The default value of regex will change from True to False in a future version.\n",
      "  casadf[\"Precio\"]=casadf[\"Precio\"].str.replace(\"Remate Bancario\",\"\").str.replace(r\"\\([()]*\\)\",\"\")\n"
     ]
    }
   ],
   "source": [
    "casadf[\"Precio\"]=casadf[\"Precio\"].str.replace(\"Remate Bancario\",\"\").str.replace(r\"\\([()]*\\)\",\"\")"
   ]
  },
  {
   "cell_type": "code",
   "execution_count": 24,
   "id": "74c7a7f6-eca8-452e-a7f0-b2918a306cbc",
   "metadata": {},
   "outputs": [],
   "source": [
    "casadf.to_csv(\"Casa_toluca.csv\")"
   ]
  },
  {
   "cell_type": "code",
   "execution_count": null,
   "id": "b2e13c2a-0c8f-4ace-91ca-d526f8b5ba1c",
   "metadata": {},
   "outputs": [],
   "source": []
  }
 ],
 "metadata": {
  "kernelspec": {
   "display_name": "Python 3 (ipykernel)",
   "language": "python",
   "name": "python3"
  },
  "language_info": {
   "codemirror_mode": {
    "name": "ipython",
    "version": 3
   },
   "file_extension": ".py",
   "mimetype": "text/x-python",
   "name": "python",
   "nbconvert_exporter": "python",
   "pygments_lexer": "ipython3",
   "version": "3.9.7"
  }
 },
 "nbformat": 4,
 "nbformat_minor": 5
}
