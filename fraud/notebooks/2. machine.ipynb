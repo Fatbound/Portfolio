{
 "cells": [
  {
   "cell_type": "code",
   "execution_count": 1,
   "id": "57f6a7ec-5dcf-4949-9860-f9cc36ff603f",
   "metadata": {},
   "outputs": [],
   "source": [
    "import pandas as pd\n",
    "from sklearn.preprocessing import PowerTransformer\n",
    "from sklearn.tree import DecisionTreeClassifier\n",
    "from sklearn.model_selection import train_test_split\n",
    "from sklearn.ensemble import AdaBoostClassifier, RandomForestClassifier\n",
    "from sklearn.metrics import confusion_matrix, classification_report\n",
    "import matplotlib.pyplot as plt\n",
    "import seaborn as sns\n",
    "import numpy as np\n",
    "from math import ceil"
   ]
  },
  {
   "cell_type": "code",
   "execution_count": 2,
   "id": "788f372a-b938-472f-8e17-5ad2bb482ca6",
   "metadata": {},
   "outputs": [],
   "source": [
    "df=pd.read_csv(\"E:/piere/Documentos/Portafolio/fraud/Data/processed/fraud_final.csv\")"
   ]
  },
  {
   "cell_type": "code",
   "execution_count": 3,
   "id": "7a6f3fe5-d415-4d89-8bf5-5345fb4f94e9",
   "metadata": {},
   "outputs": [
    {
     "data": {
      "text/html": [
       "<div>\n",
       "<style scoped>\n",
       "    .dataframe tbody tr th:only-of-type {\n",
       "        vertical-align: middle;\n",
       "    }\n",
       "\n",
       "    .dataframe tbody tr th {\n",
       "        vertical-align: top;\n",
       "    }\n",
       "\n",
       "    .dataframe thead th {\n",
       "        text-align: right;\n",
       "    }\n",
       "</style>\n",
       "<table border=\"1\" class=\"dataframe\">\n",
       "  <thead>\n",
       "    <tr style=\"text-align: right;\">\n",
       "      <th></th>\n",
       "      <th>step</th>\n",
       "      <th>type</th>\n",
       "      <th>amount</th>\n",
       "      <th>nameOrig</th>\n",
       "      <th>oldbalanceOrg</th>\n",
       "      <th>newbalanceOrig</th>\n",
       "      <th>nameDest</th>\n",
       "      <th>oldbalanceDest</th>\n",
       "      <th>newbalanceDest</th>\n",
       "      <th>isFraud</th>\n",
       "    </tr>\n",
       "  </thead>\n",
       "  <tbody>\n",
       "    <tr>\n",
       "      <th>0</th>\n",
       "      <td>1</td>\n",
       "      <td>TRANSFER</td>\n",
       "      <td>181.00</td>\n",
       "      <td>C1305486145</td>\n",
       "      <td>181.0</td>\n",
       "      <td>0.0</td>\n",
       "      <td>C553264065</td>\n",
       "      <td>0.0</td>\n",
       "      <td>0.00</td>\n",
       "      <td>1</td>\n",
       "    </tr>\n",
       "    <tr>\n",
       "      <th>1</th>\n",
       "      <td>1</td>\n",
       "      <td>CASH_OUT</td>\n",
       "      <td>181.00</td>\n",
       "      <td>C840083671</td>\n",
       "      <td>181.0</td>\n",
       "      <td>0.0</td>\n",
       "      <td>C38997010</td>\n",
       "      <td>21182.0</td>\n",
       "      <td>0.00</td>\n",
       "      <td>1</td>\n",
       "    </tr>\n",
       "    <tr>\n",
       "      <th>2</th>\n",
       "      <td>1</td>\n",
       "      <td>CASH_OUT</td>\n",
       "      <td>229133.94</td>\n",
       "      <td>C905080434</td>\n",
       "      <td>15325.0</td>\n",
       "      <td>0.0</td>\n",
       "      <td>C476402209</td>\n",
       "      <td>5083.0</td>\n",
       "      <td>51513.44</td>\n",
       "      <td>0</td>\n",
       "    </tr>\n",
       "  </tbody>\n",
       "</table>\n",
       "</div>"
      ],
      "text/plain": [
       "   step      type     amount     nameOrig  oldbalanceOrg  newbalanceOrig  \\\n",
       "0     1  TRANSFER     181.00  C1305486145          181.0             0.0   \n",
       "1     1  CASH_OUT     181.00   C840083671          181.0             0.0   \n",
       "2     1  CASH_OUT  229133.94   C905080434        15325.0             0.0   \n",
       "\n",
       "     nameDest  oldbalanceDest  newbalanceDest  isFraud  \n",
       "0  C553264065             0.0            0.00        1  \n",
       "1   C38997010         21182.0            0.00        1  \n",
       "2  C476402209          5083.0        51513.44        0  "
      ]
     },
     "execution_count": 3,
     "metadata": {},
     "output_type": "execute_result"
    }
   ],
   "source": [
    "df.head(3)"
   ]
  },
  {
   "cell_type": "code",
   "execution_count": 4,
   "id": "ba34cd7c-7919-4541-a5db-6bc0010b6426",
   "metadata": {},
   "outputs": [],
   "source": [
    "df[\"step\"]=df[\"step\"].map(lambda x: ceil(x/24))"
   ]
  },
  {
   "cell_type": "code",
   "execution_count": 5,
   "id": "f4770365-64ae-4b2f-8383-25698d523a9e",
   "metadata": {},
   "outputs": [
    {
     "data": {
      "text/html": [
       "<div>\n",
       "<style scoped>\n",
       "    .dataframe tbody tr th:only-of-type {\n",
       "        vertical-align: middle;\n",
       "    }\n",
       "\n",
       "    .dataframe tbody tr th {\n",
       "        vertical-align: top;\n",
       "    }\n",
       "\n",
       "    .dataframe thead th {\n",
       "        text-align: right;\n",
       "    }\n",
       "</style>\n",
       "<table border=\"1\" class=\"dataframe\">\n",
       "  <thead>\n",
       "    <tr style=\"text-align: right;\">\n",
       "      <th></th>\n",
       "      <th>step</th>\n",
       "      <th>type</th>\n",
       "      <th>amount</th>\n",
       "      <th>nameOrig</th>\n",
       "      <th>oldbalanceOrg</th>\n",
       "      <th>newbalanceOrig</th>\n",
       "      <th>nameDest</th>\n",
       "      <th>oldbalanceDest</th>\n",
       "      <th>newbalanceDest</th>\n",
       "      <th>isFraud</th>\n",
       "    </tr>\n",
       "  </thead>\n",
       "  <tbody>\n",
       "    <tr>\n",
       "      <th>2770406</th>\n",
       "      <td>31</td>\n",
       "      <td>CASH_OUT</td>\n",
       "      <td>6311409.28</td>\n",
       "      <td>C1162922333</td>\n",
       "      <td>6311409.28</td>\n",
       "      <td>0.0</td>\n",
       "      <td>C1365125890</td>\n",
       "      <td>68488.84</td>\n",
       "      <td>6379898.11</td>\n",
       "      <td>1</td>\n",
       "    </tr>\n",
       "    <tr>\n",
       "      <th>2770407</th>\n",
       "      <td>31</td>\n",
       "      <td>TRANSFER</td>\n",
       "      <td>850002.52</td>\n",
       "      <td>C1685995037</td>\n",
       "      <td>850002.52</td>\n",
       "      <td>0.0</td>\n",
       "      <td>C2080388513</td>\n",
       "      <td>0.00</td>\n",
       "      <td>0.00</td>\n",
       "      <td>1</td>\n",
       "    </tr>\n",
       "    <tr>\n",
       "      <th>2770408</th>\n",
       "      <td>31</td>\n",
       "      <td>CASH_OUT</td>\n",
       "      <td>850002.52</td>\n",
       "      <td>C1280323807</td>\n",
       "      <td>850002.52</td>\n",
       "      <td>0.0</td>\n",
       "      <td>C873221189</td>\n",
       "      <td>6510099.11</td>\n",
       "      <td>7360101.63</td>\n",
       "      <td>1</td>\n",
       "    </tr>\n",
       "  </tbody>\n",
       "</table>\n",
       "</div>"
      ],
      "text/plain": [
       "         step      type      amount     nameOrig  oldbalanceOrg  \\\n",
       "2770406    31  CASH_OUT  6311409.28  C1162922333     6311409.28   \n",
       "2770407    31  TRANSFER   850002.52  C1685995037      850002.52   \n",
       "2770408    31  CASH_OUT   850002.52  C1280323807      850002.52   \n",
       "\n",
       "         newbalanceOrig     nameDest  oldbalanceDest  newbalanceDest  isFraud  \n",
       "2770406             0.0  C1365125890        68488.84      6379898.11        1  \n",
       "2770407             0.0  C2080388513            0.00            0.00        1  \n",
       "2770408             0.0   C873221189      6510099.11      7360101.63        1  "
      ]
     },
     "execution_count": 5,
     "metadata": {},
     "output_type": "execute_result"
    }
   ],
   "source": [
    "df.tail(3)"
   ]
  },
  {
   "cell_type": "code",
   "execution_count": 6,
   "id": "1a4ae089-f822-4e75-b7bd-bfa6b46113c2",
   "metadata": {},
   "outputs": [],
   "source": [
    "column=list(set(list(df.columns))-set(list([\"type\", \"nameOrig\", \"nameDest\",\"isFraud\"])))"
   ]
  },
  {
   "cell_type": "code",
   "execution_count": 7,
   "id": "faaa376a-587c-4368-a453-f3142a63475c",
   "metadata": {},
   "outputs": [],
   "source": [
    "X=df[column]\n",
    "y=df[\"isFraud\"]"
   ]
  },
  {
   "cell_type": "code",
   "execution_count": 8,
   "id": "d15e1188-5cc1-4079-868e-2c1f48ae403a",
   "metadata": {},
   "outputs": [],
   "source": [
    "pt=PowerTransformer()\n",
    "X=pt.fit_transform(X)"
   ]
  },
  {
   "cell_type": "code",
   "execution_count": 9,
   "id": "db3834e3-39e1-4c8a-8206-1363c1b53b63",
   "metadata": {},
   "outputs": [],
   "source": [
    "def report(y_true,y_pred):\n",
    "    print(classification_report(y_true,y_pred))\n",
    "def matrix(y_true,y_pred):\n",
    "    g=confusion_matrix(y_true,y_pred)\n",
    "    sns.heatmap(data=g,cbar=False,annot=True,cmap=\"Blues\",fmt=\"g\",linewidths=.5,linecolor=\"black\")\n",
    "    plt.title(\"Matriz de confusión\")\n",
    "    plt.show()\n",
    "    "
   ]
  },
  {
   "cell_type": "code",
   "execution_count": 10,
   "id": "7ce6209f-d445-4eff-a88b-8150110bfbe5",
   "metadata": {},
   "outputs": [],
   "source": [
    "X_train, X_test, y_train, y_test = train_test_split(X,y, random_state=42, test_size=.3)\n"
   ]
  },
  {
   "cell_type": "code",
   "execution_count": 11,
   "id": "e415a64f-a1c3-4c94-85e3-4d895724fe16",
   "metadata": {},
   "outputs": [
    {
     "data": {
      "text/plain": [
       "DecisionTreeClassifier(random_state=0)"
      ]
     },
     "execution_count": 11,
     "metadata": {},
     "output_type": "execute_result"
    }
   ],
   "source": [
    "cfl1=DecisionTreeClassifier(random_state=0)\n",
    "cfl1.fit(X_train, y_train)"
   ]
  },
  {
   "cell_type": "code",
   "execution_count": 12,
   "id": "0dfd31b5-32c3-4529-a4f4-47d230896588",
   "metadata": {},
   "outputs": [],
   "source": [
    "y_predict=cfl1.predict(X_test)"
   ]
  },
  {
   "cell_type": "code",
   "execution_count": 13,
   "id": "9369739c-5145-46b8-9969-007296668695",
   "metadata": {},
   "outputs": [
    {
     "name": "stdout",
     "output_type": "stream",
     "text": [
      "              precision    recall  f1-score   support\n",
      "\n",
      "           0       1.00      1.00      1.00    828627\n",
      "           1       0.87      0.85      0.86      2496\n",
      "\n",
      "    accuracy                           1.00    831123\n",
      "   macro avg       0.94      0.93      0.93    831123\n",
      "weighted avg       1.00      1.00      1.00    831123\n",
      "\n"
     ]
    }
   ],
   "source": [
    "report(y_test, y_predict)"
   ]
  },
  {
   "cell_type": "code",
   "execution_count": 14,
   "id": "d0bc4e06-a4b9-42a7-bfc5-ea192f1cc264",
   "metadata": {},
   "outputs": [
    {
     "data": {
      "image/png": "[encoded data removed]",
      "text/plain": [
       "<Figure size 432x288 with 1 Axes>"
      ]
     },
     "metadata": {
      "needs_background": "light"
     },
     "output_type": "display_data"
    }
   ],
   "source": [
    "matrix(y_test, y_predict)\n"
   ]
  },
  {
   "cell_type": "code",
   "execution_count": 15,
   "id": "a9adeafc-7ed8-41b1-89fa-5655ae7f0d79",
   "metadata": {},
   "outputs": [
    {
     "name": "stdout",
     "output_type": "stream",
     "text": [
      "oldbalanceDest        0.1681724857657636  \n",
      "newbalanceDest        0.08926283834663168 \n",
      "step                  0.0970915381988052  \n",
      "newbalanceOrig        0.04412800454469314 \n",
      "oldbalanceOrg         0.3048619783896337  \n",
      "amount                0.2964831547544727  \n"
     ]
    }
   ],
   "source": [
    "for name, score in zip(column, cfl1.feature_importances_):\n",
    "    print(\"{:<20}  {:<20}\".format(name,score))"
   ]
  },
  {
   "cell_type": "code",
   "execution_count": 16,
   "id": "1827271d-1634-4048-9d36-ef7fb6357fdc",
   "metadata": {},
   "outputs": [
    {
     "data": {
      "text/plain": [
       "RandomForestClassifier(max_depth=4, n_jobs=-1, random_state=42)"
      ]
     },
     "execution_count": 16,
     "metadata": {},
     "output_type": "execute_result"
    }
   ],
   "source": [
    "cfl2=RandomForestClassifier(random_state=42, n_jobs=-1, max_depth=4)\n",
    "cfl2.fit(X_train, y_train)"
   ]
  },
  {
   "cell_type": "code",
   "execution_count": 17,
   "id": "f3269375-475b-4f2d-902f-5eb4c1859937",
   "metadata": {},
   "outputs": [],
   "source": [
    "y_predict=cfl2.predict(X_test)"
   ]
  },
  {
   "cell_type": "code",
   "execution_count": 18,
   "id": "f2701cc3-16c2-49eb-977a-2bf85643485d",
   "metadata": {},
   "outputs": [
    {
     "name": "stdout",
     "output_type": "stream",
     "text": [
      "              precision    recall  f1-score   support\n",
      "\n",
      "           0       1.00      1.00      1.00    828627\n",
      "           1       1.00      0.47      0.64      2496\n",
      "\n",
      "    accuracy                           1.00    831123\n",
      "   macro avg       1.00      0.74      0.82    831123\n",
      "weighted avg       1.00      1.00      1.00    831123\n",
      "\n"
     ]
    }
   ],
   "source": [
    "report(y_test, y_predict)"
   ]
  },
  {
   "cell_type": "code",
   "execution_count": 19,
   "id": "d56157ec-1a47-48b5-9afe-70b6616384a8",
   "metadata": {},
   "outputs": [
    {
     "data": {
      "image/png": "[encoded data removed]",
      "text/plain": [
       "<Figure size 432x288 with 1 Axes>"
      ]
     },
     "metadata": {
      "needs_background": "light"
     },
     "output_type": "display_data"
    }
   ],
   "source": [
    "matrix(y_test, y_predict)"
   ]
  },
  {
   "cell_type": "code",
   "execution_count": 20,
   "id": "2f22f6ca-ff02-4be4-a86e-db42d419296c",
   "metadata": {},
   "outputs": [
    {
     "name": "stdout",
     "output_type": "stream",
     "text": [
      "oldbalanceDest        0.1317841125516526  \n",
      "newbalanceDest        0.22892434854990326 \n",
      "step                  0.1442322418724898  \n",
      "newbalanceOrig        0.07676470006398717 \n",
      "oldbalanceOrg         0.3077633488272226  \n",
      "amount                0.11053124813474458 \n"
     ]
    }
   ],
   "source": [
    "for name, score in zip(column, cfl2.feature_importances_):\n",
    "    print(\"{:<20}  {:<20}\".format(name,score))"
   ]
  },
  {
   "cell_type": "code",
   "execution_count": 21,
   "id": "a4ba47e2-3943-4a56-8a6f-8cc016151ce1",
   "metadata": {},
   "outputs": [
    {
     "data": {
      "text/plain": [
       "AdaBoostClassifier(random_state=0)"
      ]
     },
     "execution_count": 21,
     "metadata": {},
     "output_type": "execute_result"
    }
   ],
   "source": [
    "cfl3=AdaBoostClassifier(random_state=0)\n",
    "cfl3.fit(X_train, y_train)"
   ]
  },
  {
   "cell_type": "code",
   "execution_count": 22,
   "id": "ca7c9484-7dc3-485e-b6b3-e91be2932b88",
   "metadata": {},
   "outputs": [
    {
     "name": "stdout",
     "output_type": "stream",
     "text": [
      "              precision    recall  f1-score   support\n",
      "\n",
      "           0       1.00      1.00      1.00    828627\n",
      "           1       0.93      0.61      0.74      2496\n",
      "\n",
      "    accuracy                           1.00    831123\n",
      "   macro avg       0.96      0.81      0.87    831123\n",
      "weighted avg       1.00      1.00      1.00    831123\n",
      "\n"
     ]
    }
   ],
   "source": [
    "y_predict=cfl3.predict(X_test)\n",
    "report(y_test, y_predict)"
   ]
  },
  {
   "cell_type": "code",
   "execution_count": 23,
   "id": "f73d52f0-651d-4d39-84f5-deb39a87933c",
   "metadata": {},
   "outputs": [
    {
     "data": {
      "image/png": "[encoded data removed]",
      "text/plain": [
       "<Figure size 432x288 with 1 Axes>"
      ]
     },
     "metadata": {
      "needs_background": "light"
     },
     "output_type": "display_data"
    }
   ],
   "source": [
    "matrix(y_test, y_predict)"
   ]
  },
  {
   "cell_type": "code",
   "execution_count": 24,
   "id": "1465494a-4e75-45e2-9fb9-3dac538f0b8d",
   "metadata": {},
   "outputs": [
    {
     "name": "stdout",
     "output_type": "stream",
     "text": [
      "oldbalanceDest        0.08                \n",
      "newbalanceDest        0.22                \n",
      "step                  0.14                \n",
      "newbalanceOrig        0.06                \n",
      "oldbalanceOrg         0.26                \n",
      "amount                0.24                \n"
     ]
    }
   ],
   "source": [
    "for name, score in zip(column, cfl3.feature_importances_):\n",
    "    print(\"{:<20}  {:<20}\".format(name,score))"
   ]
  },
  {
   "cell_type": "markdown",
   "id": "d20a2974-8ec3-415e-a19c-b041486580e3",
   "metadata": {},
   "source": [
    "# conclusión \n",
    "\n",
    "Como anticipamos, nuestra data muestra un fuerte desbalance dentro de las etiquetas. Por este motivo, realizaré un under-balance a razón de la cantidad de registros que resultarían sería  inmanejable para mi computador. Además, en el anterior proyecto realizamos un sobre balance para equilibrar etiquetas.\n",
    "\n",
    "Escogeremos el moelo que mejor se comporto en mi data para asi simplficar los tiuempos de ejecución\n",
    "\n"
   ]
  },
  {
   "cell_type": "code",
   "execution_count": 25,
   "id": "a4a7d9a2-066d-4cdc-a2ce-b87d588069a8",
   "metadata": {},
   "outputs": [],
   "source": [
    "df_false=df[df[\"isFraud\"]==False]\n",
    "df_true=df[df[\"isFraud\"]==True]"
   ]
  },
  {
   "cell_type": "code",
   "execution_count": 26,
   "id": "ea21d17c-1c99-4238-bed3-2145291a2ab2",
   "metadata": {},
   "outputs": [
    {
     "data": {
      "text/plain": [
       "8213"
      ]
     },
     "execution_count": 26,
     "metadata": {},
     "output_type": "execute_result"
    }
   ],
   "source": [
    "df_true.shape[0]"
   ]
  },
  {
   "cell_type": "code",
   "execution_count": 27,
   "id": "c5bba3eb-9ed1-4719-bc3d-8ac401396085",
   "metadata": {},
   "outputs": [],
   "source": [
    "df_false=df_false.sample(n=df_true.shape[0], replace=False, random_state=42)"
   ]
  },
  {
   "cell_type": "code",
   "execution_count": 28,
   "id": "f2bcd3ef-b86a-464a-b593-2c0621f0655b",
   "metadata": {},
   "outputs": [
    {
     "data": {
      "text/plain": [
       "(8213, 10)"
      ]
     },
     "execution_count": 28,
     "metadata": {},
     "output_type": "execute_result"
    }
   ],
   "source": [
    "df_false.shape"
   ]
  },
  {
   "cell_type": "code",
   "execution_count": 29,
   "id": "9a35fa44-07af-457b-808b-93fc98709fc3",
   "metadata": {},
   "outputs": [],
   "source": [
    "df_final=pd.concat([df_false, df_true], ignore_index=True)"
   ]
  },
  {
   "cell_type": "code",
   "execution_count": 30,
   "id": "0b6f1bef-f599-43f3-bc94-1d4f8d82ef87",
   "metadata": {},
   "outputs": [
    {
     "name": "stdout",
     "output_type": "stream",
     "text": [
      "<class 'pandas.core.frame.DataFrame'>\n",
      "RangeIndex: 16426 entries, 0 to 16425\n",
      "Data columns (total 10 columns):\n",
      " #   Column          Non-Null Count  Dtype  \n",
      "---  ------          --------------  -----  \n",
      " 0   step            16426 non-null  int64  \n",
      " 1   type            16426 non-null  object \n",
      " 2   amount          16426 non-null  float64\n",
      " 3   nameOrig        16426 non-null  object \n",
      " 4   oldbalanceOrg   16426 non-null  float64\n",
      " 5   newbalanceOrig  16426 non-null  float64\n",
      " 6   nameDest        16426 non-null  object \n",
      " 7   oldbalanceDest  16426 non-null  float64\n",
      " 8   newbalanceDest  16426 non-null  float64\n",
      " 9   isFraud         16426 non-null  int64  \n",
      "dtypes: float64(5), int64(2), object(3)\n",
      "memory usage: 1.3+ MB\n"
     ]
    }
   ],
   "source": [
    "df_final.info()"
   ]
  },
  {
   "cell_type": "markdown",
   "id": "aa29fa2c-824f-45f8-ba28-62f4ce1f029c",
   "metadata": {},
   "source": [
    "Observamos que ya hemos under balanceado mi datos, procegimos a observar los resultados con este nuevo data set."
   ]
  },
  {
   "cell_type": "code",
   "execution_count": 31,
   "id": "bdd75c91-6bd4-4b9a-adfc-469540e81fc4",
   "metadata": {},
   "outputs": [],
   "source": [
    "df_final=df_final.sample(frac=1, random_state=42).reset_index()"
   ]
  },
  {
   "cell_type": "code",
   "execution_count": 46,
   "id": "2be219a6-fc2b-4cc0-9aa0-869e39d92008",
   "metadata": {},
   "outputs": [],
   "source": [
    "X_final=df_final[column]\n",
    "y_final=df_final[\"isFraud\"]"
   ]
  },
  {
   "cell_type": "code",
   "execution_count": 33,
   "id": "e0f05857-d615-494f-8b5a-b0b31ffe3727",
   "metadata": {},
   "outputs": [],
   "source": [
    "X_final=pt.fit_transform(X_final)"
   ]
  },
  {
   "cell_type": "code",
   "execution_count": 34,
   "id": "4f40b41f-956c-4f49-85c8-8014b5fbd381",
   "metadata": {},
   "outputs": [],
   "source": [
    "X_train, X_test, y_train, y_test = train_test_split(X_final, y_final, test_size=.3, random_state=42)"
   ]
  },
  {
   "cell_type": "code",
   "execution_count": 35,
   "id": "66f1f4ff-aba0-4cca-8155-d96efea3e4b7",
   "metadata": {},
   "outputs": [
    {
     "data": {
      "text/plain": [
       "DecisionTreeClassifier()"
      ]
     },
     "execution_count": 35,
     "metadata": {},
     "output_type": "execute_result"
    }
   ],
   "source": [
    "cfl_final=DecisionTreeClassifier()\n",
    "cfl_final.fit(X_train, y_train)"
   ]
  },
  {
   "cell_type": "code",
   "execution_count": 36,
   "id": "5a44d001-6a39-40ad-bd03-c6cf62442015",
   "metadata": {},
   "outputs": [],
   "source": [
    "y_pred_final=cfl_final.predict(X_test)"
   ]
  },
  {
   "cell_type": "code",
   "execution_count": 37,
   "id": "a2c19800-2c99-45bf-a80e-c60df24ec26e",
   "metadata": {},
   "outputs": [
    {
     "name": "stdout",
     "output_type": "stream",
     "text": [
      "              precision    recall  f1-score   support\n",
      "\n",
      "           0       0.98      0.98      0.98      2484\n",
      "           1       0.98      0.98      0.98      2444\n",
      "\n",
      "    accuracy                           0.98      4928\n",
      "   macro avg       0.98      0.98      0.98      4928\n",
      "weighted avg       0.98      0.98      0.98      4928\n",
      "\n"
     ]
    }
   ],
   "source": [
    "report(y_true=y_test, y_pred=y_pred_final)"
   ]
  },
  {
   "cell_type": "code",
   "execution_count": 38,
   "id": "30be4f27-99d0-4cce-aaa6-facb058c3cdb",
   "metadata": {},
   "outputs": [
    {
     "data": {
      "image/png": "[encoded data removed]",
      "text/plain": [
       "<Figure size 432x288 with 1 Axes>"
      ]
     },
     "metadata": {
      "needs_background": "light"
     },
     "output_type": "display_data"
    }
   ],
   "source": [
    "matrix(y_true=y_test, y_pred=y_pred_final)"
   ]
  },
  {
   "cell_type": "code",
   "execution_count": 39,
   "id": "08ee2f35-6205-4fd6-9ab2-bd478739d712",
   "metadata": {},
   "outputs": [
    {
     "name": "stdout",
     "output_type": "stream",
     "text": [
      "      oldbalanceDest  0.004132261892269971\n",
      "      newbalanceDest  0.1341830362474479  \n",
      "                step  0.011833348430605793\n",
      "      newbalanceOrig  0.10683544765082229 \n",
      "       oldbalanceOrg  0.5716739776312081  \n",
      "              amount  0.17134192814764596 \n"
     ]
    }
   ],
   "source": [
    "for name, score in zip(column, cfl_final.feature_importances_):\n",
    "    print(\"{:>20}  {:<20}\".format(name, score))"
   ]
  },
  {
   "cell_type": "markdown",
   "id": "944cfb41-f99e-416d-8841-1a2c277b9f29",
   "metadata": {},
   "source": [
    "# Conclusión \n",
    "*  Indudablemente, hemos mejorado nuestro modelo. Sin embargo, buscaremos mejorar mis estadísticas realizando una Red neuronal con estos datos. Cabe aclarar, nuevamente, que me enfocaré en los datos del under-sample por motivos de hardware disponible para este proyecto.\n",
    "* Quiero mencionar que los resultados muestran una fuerte tendencia de variables como el balance original, cabe mencionar que recomendaciones para futuros modelos, se puede explorar la idea de enriquecer mi base de datos, donde busque nuevas variables numéricas y convertir categóricas a numéricas."
   ]
  },
  {
   "cell_type": "code",
   "execution_count": 49,
   "id": "5da2e5d8-134a-4b94-80e5-d4a40a95cccc",
   "metadata": {},
   "outputs": [],
   "source": [
    "df_final.to_csv(\"E:/piere/Documentos/Portafolio/fraud/Data/processed/data_final.csv\", index=False)"
   ]
  }
 ],
 "metadata": {
  "kernelspec": {
   "display_name": "Python 3 (ipykernel)",
   "language": "python",
   "name": "python3"
  },
  "language_info": {
   "codemirror_mode": {
    "name": "ipython",
    "version": 3
   },
   "file_extension": ".py",
   "mimetype": "text/x-python",
   "name": "python",
   "nbconvert_exporter": "python",
   "pygments_lexer": "ipython3",
   "version": "3.9.12"
  }
 },
 "nbformat": 4,
 "nbformat_minor": 5
}
