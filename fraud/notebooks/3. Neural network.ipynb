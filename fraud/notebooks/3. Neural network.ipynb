{
 "cells": [
  {
   "cell_type": "code",
   "execution_count": 39,
   "id": "7af7e9da-0e16-463d-b881-cb3d811788c1",
   "metadata": {},
   "outputs": [],
   "source": [
    "import matplotlib.pyplot as plt\n",
    "import seaborn as sns\n",
    "import pandas as pd\n",
    "import numpy as np\n",
    "import tensorflow as tf\n",
    "from tensorflow.keras import models, layers, optimizers\n",
    "from tensorflow.keras.utils import to_categorical\n",
    "from sklearn.preprocessing import PowerTransformer\n",
    "plt.style.use('ggplot')"
   ]
  },
  {
   "cell_type": "code",
   "execution_count": 2,
   "id": "5455503a-1c83-4dfe-b4da-7fe7f472d344",
   "metadata": {},
   "outputs": [],
   "source": [
    "df=pd.read_csv(\"E:/piere/Documentos/Portafolio/fraud/Data/processed/data_final.csv\")"
   ]
  },
  {
   "cell_type": "code",
   "execution_count": 3,
   "id": "8c63bde0-78ae-4bcf-8b60-53a0287d770c",
   "metadata": {},
   "outputs": [],
   "source": [
    "df=df.drop([\"index\"], axis=1)"
   ]
  },
  {
   "cell_type": "code",
   "execution_count": 4,
   "id": "a65c41d1-8688-4a59-a8ec-e5b875ec7a49",
   "metadata": {},
   "outputs": [],
   "source": [
    "column=list(set(list(df.columns))-set(list([\"type\", \"nameOrig\", \"nameDest\",\"isFraud\"])))\n",
    "X=df[column]\n",
    "y=df[\"isFraud\"]"
   ]
  },
  {
   "cell_type": "code",
   "execution_count": 5,
   "id": "fcc28965-c11a-497f-8be4-7902b8ce9d5f",
   "metadata": {},
   "outputs": [],
   "source": [
    "y=tf.keras.utils.to_categorical(y, num_classes=2)"
   ]
  },
  {
   "cell_type": "code",
   "execution_count": 6,
   "id": "d89d4261-d9c1-4bdd-a24b-dc69554485ad",
   "metadata": {},
   "outputs": [],
   "source": [
    "pt=PowerTransformer()\n",
    "x_new=pt.fit_transform(X)"
   ]
  },
  {
   "cell_type": "code",
   "execution_count": 7,
   "id": "b5152f6c-4f2d-4658-9d13-93e3a54de30a",
   "metadata": {},
   "outputs": [],
   "source": [
    "X_train=x_new[:9855]\n",
    "y_train=y[:9855]\n",
    "X_val=x_new[9855:13140]\n",
    "y_val=y[9855:13140]\n",
    "X_test=x_new[13140:]\n",
    "y_test=y[13140:]"
   ]
  },
  {
   "cell_type": "code",
   "execution_count": 8,
   "id": "bc74a91b-317c-4b40-a13f-8158f753ffaa",
   "metadata": {},
   "outputs": [],
   "source": [
    "model=models.Sequential()\n",
    "model.add(layers.Dense(256, activation='relu', input_shape=(6,)))\n",
    "model.add(layers.Dropout(.25))\n",
    "model.add(layers.Dense(32,activation='relu'))\n",
    "model.add(layers.Dense(2, activation='sigmoid'))"
   ]
  },
  {
   "cell_type": "code",
   "execution_count": 9,
   "id": "22c41f63-60a8-4417-8e08-fede011cdefd",
   "metadata": {},
   "outputs": [],
   "source": [
    "model.compile(optimizer='rmsprop', loss='binary_crossentropy', metrics=['BinaryAccuracy'])\n",
    "\n"
   ]
  },
  {
   "cell_type": "code",
   "execution_count": 10,
   "id": "6f216fe4-4e8e-4b67-91b2-50f0ea4ed196",
   "metadata": {},
   "outputs": [
    {
     "name": "stdout",
     "output_type": "stream",
     "text": [
      "Model: \"sequential\"\n",
      "_________________________________________________________________\n",
      " Layer (type)                Output Shape              Param #   \n",
      "=================================================================\n",
      " dense (Dense)               (None, 256)               1792      \n",
      "                                                                 \n",
      " dropout (Dropout)           (None, 256)               0         \n",
      "                                                                 \n",
      " dense_1 (Dense)             (None, 32)                8224      \n",
      "                                                                 \n",
      " dense_2 (Dense)             (None, 2)                 66        \n",
      "                                                                 \n",
      "=================================================================\n",
      "Total params: 10,082\n",
      "Trainable params: 10,082\n",
      "Non-trainable params: 0\n",
      "_________________________________________________________________\n"
     ]
    }
   ],
   "source": [
    "model.summary()"
   ]
  },
  {
   "cell_type": "code",
   "execution_count": 11,
   "id": "7c6875c3-7cf8-4c28-b592-1a7aa714520c",
   "metadata": {},
   "outputs": [
    {
     "name": "stdout",
     "output_type": "stream",
     "text": [
      "Epoch 1/20\n",
      "99/99 [==============================] - 3s 13ms/step - loss: 0.2397 - binary_accuracy: 0.9160 - val_loss: 0.1175 - val_binary_accuracy: 0.9597\n",
      "Epoch 2/20\n",
      "99/99 [==============================] - 1s 6ms/step - loss: 0.1006 - binary_accuracy: 0.9681 - val_loss: 0.0762 - val_binary_accuracy: 0.9784\n",
      "Epoch 3/20\n",
      "99/99 [==============================] - 1s 6ms/step - loss: 0.0785 - binary_accuracy: 0.9784 - val_loss: 0.0713 - val_binary_accuracy: 0.9863\n",
      "Epoch 4/20\n",
      "99/99 [==============================] - 1s 6ms/step - loss: 0.0716 - binary_accuracy: 0.9806 - val_loss: 0.0606 - val_binary_accuracy: 0.9795\n",
      "Epoch 5/20\n",
      "99/99 [==============================] - 1s 7ms/step - loss: 0.0667 - binary_accuracy: 0.9816 - val_loss: 0.0589 - val_binary_accuracy: 0.9855\n",
      "Epoch 6/20\n",
      "99/99 [==============================] - 1s 7ms/step - loss: 0.0616 - binary_accuracy: 0.9832 - val_loss: 0.0495 - val_binary_accuracy: 0.9858\n",
      "Epoch 7/20\n",
      "99/99 [==============================] - 1s 7ms/step - loss: 0.0576 - binary_accuracy: 0.9845 - val_loss: 0.0477 - val_binary_accuracy: 0.9875\n",
      "Epoch 8/20\n",
      "99/99 [==============================] - 1s 7ms/step - loss: 0.0551 - binary_accuracy: 0.9851 - val_loss: 0.0447 - val_binary_accuracy: 0.9877\n",
      "Epoch 9/20\n",
      "99/99 [==============================] - 1s 7ms/step - loss: 0.0518 - binary_accuracy: 0.9860 - val_loss: 0.0430 - val_binary_accuracy: 0.9869\n",
      "Epoch 10/20\n",
      "99/99 [==============================] - 1s 7ms/step - loss: 0.0492 - binary_accuracy: 0.9865 - val_loss: 0.0455 - val_binary_accuracy: 0.9837\n",
      "Epoch 11/20\n",
      "99/99 [==============================] - 1s 7ms/step - loss: 0.0448 - binary_accuracy: 0.9870 - val_loss: 0.0399 - val_binary_accuracy: 0.9878\n",
      "Epoch 12/20\n",
      "99/99 [==============================] - 1s 7ms/step - loss: 0.0437 - binary_accuracy: 0.9878 - val_loss: 0.0439 - val_binary_accuracy: 0.9860\n",
      "Epoch 13/20\n",
      "99/99 [==============================] - 1s 8ms/step - loss: 0.0436 - binary_accuracy: 0.9878 - val_loss: 0.0369 - val_binary_accuracy: 0.9893\n",
      "Epoch 14/20\n",
      "99/99 [==============================] - 1s 7ms/step - loss: 0.0408 - binary_accuracy: 0.9879 - val_loss: 0.0394 - val_binary_accuracy: 0.9874\n",
      "Epoch 15/20\n",
      "99/99 [==============================] - 1s 7ms/step - loss: 0.0392 - binary_accuracy: 0.9888 - val_loss: 0.0351 - val_binary_accuracy: 0.9903\n",
      "Epoch 16/20\n",
      "99/99 [==============================] - 1s 7ms/step - loss: 0.0368 - binary_accuracy: 0.9891 - val_loss: 0.0431 - val_binary_accuracy: 0.9863\n",
      "Epoch 17/20\n",
      "99/99 [==============================] - 1s 6ms/step - loss: 0.0386 - binary_accuracy: 0.9885 - val_loss: 0.0367 - val_binary_accuracy: 0.9884\n",
      "Epoch 18/20\n",
      "99/99 [==============================] - 1s 7ms/step - loss: 0.0381 - binary_accuracy: 0.9890 - val_loss: 0.0343 - val_binary_accuracy: 0.9919\n",
      "Epoch 19/20\n",
      "99/99 [==============================] - 1s 7ms/step - loss: 0.0352 - binary_accuracy: 0.9896 - val_loss: 0.0333 - val_binary_accuracy: 0.9887\n",
      "Epoch 20/20\n",
      "99/99 [==============================] - 1s 12ms/step - loss: 0.0351 - binary_accuracy: 0.9903 - val_loss: 0.0475 - val_binary_accuracy: 0.9790\n"
     ]
    }
   ],
   "source": [
    "history = model.fit(X_train,\n",
    "                   y_train,\n",
    "                   epochs=20,\n",
    "                   batch_size=100,\n",
    "                   validation_data=(X_val,y_val))"
   ]
  },
  {
   "cell_type": "code",
   "execution_count": 34,
   "id": "05992c5d-8d84-433a-81b0-7dba2e4404f6",
   "metadata": {},
   "outputs": [
    {
     "data": {
      "image/png": "[encoded data removed]",
      "text/plain": [
       "<Figure size 432x288 with 1 Axes>"
      ]
     },
     "metadata": {},
     "output_type": "display_data"
    }
   ],
   "source": [
    "epoch=range(1,len(history.history[\"val_loss\"])+1)\n",
    "plt.plot(epoch,history.history[\"val_loss\"], label=\"validaton\")\n",
    "plt.plot(epoch,history.history[\"loss\"], label=\"training\")\n",
    "plt.legend()\n",
    "plt.title(\"Valor de perdida por Epoch\")\n",
    "plt.xlabel(\"Epochs\")\n",
    "plt.ylabel(\"Loss\")\n",
    "plt.show()"
   ]
  },
  {
   "cell_type": "code",
   "execution_count": 38,
   "id": "a51a0dd4-a9a5-4712-9d40-7c1913ac4b8e",
   "metadata": {},
   "outputs": [
    {
     "data": {
      "image/png": "[encoded data removed]",
      "text/plain": [
       "<Figure size 432x288 with 1 Axes>"
      ]
     },
     "metadata": {},
     "output_type": "display_data"
    }
   ],
   "source": [
    "plt.plot(epoch, history.history[\"binary_accuracy\"], label=\"training\")\n",
    "plt.plot(epoch, history.history[\"val_binary_accuracy\"], label=\"validation\")\n",
    "plt.title(\"Accuracy por epoch\")\n",
    "plt.legend()\n",
    "plt.xlabel(\"Epochs\")\n",
    "plt.ylabel(\"Binary_Accuracy\")\n",
    "plt.show()"
   ]
  },
  {
   "cell_type": "code",
   "execution_count": 12,
   "id": "70c6ab12-8b0f-4cdd-a49e-ae647b699110",
   "metadata": {},
   "outputs": [
    {
     "name": "stdout",
     "output_type": "stream",
     "text": [
      "103/103 [==============================] - 0s 3ms/step - loss: 0.0507 - binary_accuracy: 0.9784\n"
     ]
    },
    {
     "data": {
      "text/plain": [
       "[0.050746265798807144, 0.9783931970596313]"
      ]
     },
     "execution_count": 12,
     "metadata": {},
     "output_type": "execute_result"
    }
   ],
   "source": [
    "model.evaluate(X_test, y_test)"
   ]
  },
  {
   "cell_type": "code",
   "execution_count": 13,
   "id": "789b5337-8c9e-4acf-87a9-664bc5aeaa53",
   "metadata": {},
   "outputs": [
    {
     "name": "stdout",
     "output_type": "stream",
     "text": [
      "103/103 [==============================] - 0s 3ms/step\n"
     ]
    }
   ],
   "source": [
    "y_predic=model.predict(X_test)"
   ]
  },
  {
   "cell_type": "code",
   "execution_count": 14,
   "id": "eead90b5-7906-41dd-ac97-3edc2665a66e",
   "metadata": {},
   "outputs": [],
   "source": [
    "predic_ctagegoris=np.argmax(y_predic, axis=1)"
   ]
  },
  {
   "cell_type": "code",
   "execution_count": 15,
   "id": "731fc55c-1d6a-487c-a306-7e23a4ee95bf",
   "metadata": {},
   "outputs": [
    {
     "data": {
      "text/plain": [
       "(3286,)"
      ]
     },
     "execution_count": 15,
     "metadata": {},
     "output_type": "execute_result"
    }
   ],
   "source": [
    "predic_ctagegoris.shape"
   ]
  },
  {
   "cell_type": "code",
   "execution_count": 16,
   "id": "794635d9-ea52-40f9-833c-c24576a7eed6",
   "metadata": {},
   "outputs": [],
   "source": [
    "y_test_new=np.argmax(y_test,axis=1)"
   ]
  },
  {
   "cell_type": "code",
   "execution_count": 17,
   "id": "282b54a0-4827-4218-ba88-b2dcf7aa7943",
   "metadata": {},
   "outputs": [],
   "source": [
    "from sklearn.metrics import classification_report, confusion_matrix"
   ]
  },
  {
   "cell_type": "code",
   "execution_count": 18,
   "id": "dd437ad0-5cd3-4581-baad-dcbda9d99694",
   "metadata": {},
   "outputs": [
    {
     "name": "stdout",
     "output_type": "stream",
     "text": [
      "              precision    recall  f1-score   support\n",
      "\n",
      "           0       0.96      0.99      0.98      1641\n",
      "           1       0.99      0.96      0.98      1645\n",
      "\n",
      "    accuracy                           0.98      3286\n",
      "   macro avg       0.98      0.98      0.98      3286\n",
      "weighted avg       0.98      0.98      0.98      3286\n",
      "\n"
     ]
    }
   ],
   "source": [
    "print(classification_report(y_test_new, predic_ctagegoris))"
   ]
  },
  {
   "cell_type": "code",
   "execution_count": 40,
   "id": "530cd297-5bb5-4902-acda-b6b89defe905",
   "metadata": {},
   "outputs": [],
   "source": [
    "g=confusion_matrix(y_test_new, predic_ctagegoris)"
   ]
  },
  {
   "cell_type": "code",
   "execution_count": 50,
   "id": "0c7aa408-dce5-4269-b31a-9712cd9f900e",
   "metadata": {},
   "outputs": [
    {
     "data": {
      "text/plain": [
       "<AxesSubplot:>"
      ]
     },
     "execution_count": 50,
     "metadata": {},
     "output_type": "execute_result"
    },
    {
     "data": {
      "image/png": "[encoded data removed]",
      "text/plain": [
       "<Figure size 432x288 with 1 Axes>"
      ]
     },
     "metadata": {},
     "output_type": "display_data"
    }
   ],
   "source": [
    "sns.heatmap(g, cbar=False, cmap='tab20_r', annot=True, fmt=\".0f\")"
   ]
  },
  {
   "cell_type": "markdown",
   "id": "bc790e68-c7bf-48a6-b739-65bd8bfe9749",
   "metadata": {},
   "source": [
    "# Conclusión\n",
    "\n",
    "* Hemos desarrollado una red neuronal, el cual ha logrado bajar mi incertidumbre que obtuve con el anterior modelo de decision tree. Cabe aclarar que le modelo fue under balanceado para poder manejar los datos en mi equipo de cómputo. La red neuronal es sencilla arrojando unas muy buenas métricas.\n",
    "* Como recomendación, podemos alterar y colocar otros tipos de funciones de activación para observar como se comporta mis datos y las métricas resultantes."
   ]
  }
 ],
 "metadata": {
  "kernelspec": {
   "display_name": "Python 3 (ipykernel)",
   "language": "python",
   "name": "python3"
  },
  "language_info": {
   "codemirror_mode": {
    "name": "ipython",
    "version": 3
   },
   "file_extension": ".py",
   "mimetype": "text/x-python",
   "name": "python",
   "nbconvert_exporter": "python",
   "pygments_lexer": "ipython3",
   "version": "3.9.12"
  }
 },
 "nbformat": 4,
 "nbformat_minor": 5
}
